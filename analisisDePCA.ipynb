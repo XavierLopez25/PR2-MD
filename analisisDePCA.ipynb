{
 "cells": [
  {
   "cell_type": "markdown",
   "metadata": {},
   "source": [
    "# Análisis de Grupos\n"
   ]
  },
  {
   "cell_type": "code",
   "execution_count": 6,
   "metadata": {},
   "outputs": [],
   "source": [
    "import pandas as pd\n",
    "from sklearn.preprocessing import StandardScaler\n",
    "import numpy as np\n",
    "from sklearn.decomposition import PCA\n",
    "import matplotlib.pyplot as plt\n",
    "from sklearn.pipeline import make_pipeline\n",
    "from statsmodels.stats.outliers_influence import variance_inflation_factor\n",
    "from factor_analyzer.factor_analyzer import calculate_bartlett_sphericity, calculate_kmo\n",
    "import seaborn as sns\n"
   ]
  },
  {
   "cell_type": "markdown",
   "metadata": {},
   "source": [
    "### Lectura del archivo\n"
   ]
  },
  {
   "cell_type": "code",
   "execution_count": 7,
   "metadata": {},
   "outputs": [
    {
     "name": "stdout",
     "output_type": "stream",
     "text": [
      "   Id  MSSubClass MSZoning  LotFrontage  LotArea Street Alley LotShape  \\\n",
      "0   1          60       RL         65.0     8450   Pave   NaN      Reg   \n",
      "1   2          20       RL         80.0     9600   Pave   NaN      Reg   \n",
      "2   3          60       RL         68.0    11250   Pave   NaN      IR1   \n",
      "3   4          70       RL         60.0     9550   Pave   NaN      IR1   \n",
      "4   5          60       RL         84.0    14260   Pave   NaN      IR1   \n",
      "\n",
      "  LandContour Utilities  ... PoolArea PoolQC Fence MiscFeature MiscVal MoSold  \\\n",
      "0         Lvl    AllPub  ...        0    NaN   NaN         NaN       0      2   \n",
      "1         Lvl    AllPub  ...        0    NaN   NaN         NaN       0      5   \n",
      "2         Lvl    AllPub  ...        0    NaN   NaN         NaN       0      9   \n",
      "3         Lvl    AllPub  ...        0    NaN   NaN         NaN       0      2   \n",
      "4         Lvl    AllPub  ...        0    NaN   NaN         NaN       0     12   \n",
      "\n",
      "  YrSold  SaleType  SaleCondition  SalePrice  \n",
      "0   2008        WD         Normal     208500  \n",
      "1   2007        WD         Normal     181500  \n",
      "2   2008        WD         Normal     223500  \n",
      "3   2006        WD        Abnorml     140000  \n",
      "4   2008        WD         Normal     250000  \n",
      "\n",
      "[5 rows x 81 columns]\n",
      "(1460, 81)\n"
     ]
    }
   ],
   "source": [
    "df_houses = pd.read_csv('train.csv', encoding = \"ISO-8859-1\")\n",
    "print(df_houses.head())\n",
    "print(df_houses.shape)"
   ]
  },
  {
   "cell_type": "markdown",
   "metadata": {},
   "source": [
    "### Variables numéricas\n"
   ]
  },
  {
   "cell_type": "code",
   "execution_count": 8,
   "metadata": {},
   "outputs": [],
   "source": [
    "variables_numericas = [\n",
    "    'LotFrontage', 'LotArea', 'OverallQual', 'OverallCond',\n",
    "    'YearBuilt', 'YearRemodAdd', 'MasVnrArea', 'BsmtFinSF1', 'BsmtFinSF2',\n",
    "    'BsmtUnfSF', 'TotalBsmtSF', '1stFlrSF', '2ndFlrSF', 'LowQualFinSF',\n",
    "    'GrLivArea', 'BsmtFullBath', 'BsmtHalfBath', 'FullBath', 'HalfBath',\n",
    "    'BedroomAbvGr', 'KitchenAbvGr', 'TotRmsAbvGrd', 'Fireplaces',\n",
    "    'GarageYrBlt', 'GarageCars', 'GarageArea', 'WoodDeckSF', 'OpenPorchSF',\n",
    "    'EnclosedPorch', '3SsnPorch', 'ScreenPorch', 'PoolArea', 'MiscVal',\n",
    "    'MoSold', 'YrSold', 'SalePrice'\n",
    "]\n",
    "\n",
    "df_houses_num = df_houses[variables_numericas]\n",
    "\n",
    "df_houses_temp = df_houses_num.copy()\n",
    "df_houses_temp = df_houses_temp.fillna(df_houses_temp.median())"
   ]
  },
  {
   "cell_type": "markdown",
   "metadata": {},
   "source": [
    "### Análisis para aplicación de PCA\n"
   ]
  },
  {
   "cell_type": "markdown",
   "metadata": {},
   "source": [
    "**Matriz de correlación y Determinante**\n"
   ]
  },
  {
   "cell_type": "code",
   "execution_count": 9,
   "metadata": {},
   "outputs": [
    {
     "name": "stdout",
     "output_type": "stream",
     "text": [
      "Determinante de la matriz de correlación: -0.00000000\n"
     ]
    }
   ],
   "source": [
    "corr_matrix = df_houses_temp.corr()\n",
    "\n",
    "det = np.linalg.det(corr_matrix)\n",
    "print(f'Determinante de la matriz de correlación: {det:.8f}')"
   ]
  },
  {
   "cell_type": "markdown",
   "metadata": {},
   "source": [
    "**Colinealidad entre pares**\n"
   ]
  },
  {
   "cell_type": "code",
   "execution_count": 10,
   "metadata": {},
   "outputs": [
    {
     "name": "stdout",
     "output_type": "stream",
     "text": [
      "Variables con correlación > 0.95: []\n"
     ]
    }
   ],
   "source": [
    "upper = corr_matrix.where(np.triu(np.ones(corr_matrix.shape), k=1).astype(bool))\n",
    "\n",
    "threshold = 0.95\n",
    "\n",
    "to_exclude = [column for column in upper.columns if any(upper[column] > threshold)]\n",
    "\n",
    "print(f'Variables con correlación > {threshold}: {to_exclude}')"
   ]
  },
  {
   "cell_type": "markdown",
   "metadata": {},
   "source": [
    "**Clinealidad múltiple (VIF)**\n"
   ]
  },
  {
   "cell_type": "code",
   "execution_count": 11,
   "metadata": {},
   "outputs": [
    {
     "name": "stderr",
     "output_type": "stream",
     "text": [
      "c:\\Python312\\Lib\\site-packages\\statsmodels\\stats\\outliers_influence.py:197: RuntimeWarning: divide by zero encountered in scalar divide\n",
      "  vif = 1. / (1. - r_squared_i)\n"
     ]
    },
    {
     "name": "stdout",
     "output_type": "stream",
     "text": [
      "\n",
      "--- VIF (Factor de Inflación de Varianza) ---\n",
      "         Variable           VIF\n",
      "10    TotalBsmtSF           inf\n",
      "7      BsmtFinSF1           inf\n",
      "8      BsmtFinSF2           inf\n",
      "9       BsmtUnfSF           inf\n",
      "11       1stFlrSF           inf\n",
      "12       2ndFlrSF           inf\n",
      "13   LowQualFinSF           inf\n",
      "14      GrLivArea           inf\n",
      "34         YrSold  2.494748e+04\n",
      "23    GarageYrBlt  2.251093e+04\n",
      "5    YearRemodAdd  2.247548e+04\n",
      "4       YearBuilt  2.149212e+04\n",
      "21   TotRmsAbvGrd  8.386286e+01\n",
      "2     OverallQual  7.482805e+01\n",
      "3     OverallCond  4.225783e+01\n",
      "24     GarageCars  3.715629e+01\n",
      "20   KitchenAbvGr  3.330571e+01\n",
      "35      SalePrice  3.215603e+01\n",
      "25     GarageArea  3.205772e+01\n",
      "19   BedroomAbvGr  3.135393e+01\n",
      "17       FullBath  2.665179e+01\n",
      "0     LotFrontage  1.562672e+01\n",
      "33         MoSold  6.636915e+00\n",
      "15   BsmtFullBath  3.692750e+00\n",
      "18       HalfBath  3.418974e+00\n",
      "22     Fireplaces  3.025670e+00\n",
      "1         LotArea  2.679021e+00\n",
      "26     WoodDeckSF  1.916944e+00\n",
      "6      MasVnrArea  1.867679e+00\n",
      "27    OpenPorchSF  1.825448e+00\n",
      "28  EnclosedPorch  1.447640e+00\n",
      "16   BsmtHalfBath  1.215387e+00\n",
      "30    ScreenPorch  1.199524e+00\n",
      "31       PoolArea  1.103933e+00\n",
      "29      3SsnPorch  1.036992e+00\n",
      "32        MiscVal  1.030462e+00\n"
     ]
    }
   ],
   "source": [
    "X = df_houses_temp.values\n",
    "vif = [variance_inflation_factor(X, i) for i in range(X.shape[1])]\n",
    "vif_df = pd.DataFrame({'Variable': df_houses_temp.columns, 'VIF': vif})\n",
    "\n",
    "print(\"\\n--- VIF (Factor de Inflación de Varianza) ---\")\n",
    "print(vif_df.sort_values('VIF', ascending=False))"
   ]
  },
  {
   "cell_type": "markdown",
   "metadata": {},
   "source": [
    "**Evaluación de Esfericidad de Bartlett y KMO**\n"
   ]
  },
  {
   "cell_type": "code",
   "execution_count": 12,
   "metadata": {},
   "outputs": [
    {
     "name": "stdout",
     "output_type": "stream",
     "text": [
      "\n",
      "Test de Esfericidad de Bartlett:\n",
      " - Valor Chi-cuadrado: nan\n",
      " - Valor p: nan\n",
      "\n",
      "Índice KMO: 0.5965\n",
      "\n",
      "Alerta: La matriz de correlación es casi singular (multicolinealidad severa).\n",
      "   Se recomienda revisar y eliminar variables redundantes.\n",
      "\n",
      "Cuidado: Condiciones para PCA no son ideales. Considera revisar el dataset.\n"
     ]
    },
    {
     "name": "stderr",
     "output_type": "stream",
     "text": [
      "c:\\Python312\\Lib\\site-packages\\factor_analyzer\\factor_analyzer.py:109: RuntimeWarning: invalid value encountered in log\n",
      "  statistic = -np.log(corr_det) * (n - 1 - (2 * p + 5) / 6)\n"
     ]
    }
   ],
   "source": [
    "chi_cuadrado, p_valor = calculate_bartlett_sphericity(df_houses_temp)\n",
    "kmo_all, kmo_modelo = calculate_kmo(df_houses_temp)\n",
    "\n",
    "print(f'\\nTest de Esfericidad de Bartlett:')\n",
    "print(f' - Valor Chi-cuadrado: {chi_cuadrado:.4f}')\n",
    "print(f' - Valor p: {p_valor:.4f}')\n",
    "\n",
    "print(f'\\nÍndice KMO: {kmo_modelo:.4f}')\n",
    "\n",
    "if det < 1e-5:\n",
    "    print(\"\\nAlerta: La matriz de correlación es casi singular (multicolinealidad severa).\")\n",
    "    print(\"   Se recomienda revisar y eliminar variables redundantes.\")\n",
    "elif any(vif_df['VIF'] > 10):\n",
    "    print(\"\\nAlerta: Algunas variables tienen VIF > 10 (multicolinealidad múltiple severa).\")\n",
    "    print(\"   Considera revisar y ajustar el modelo eliminando variables redundantes.\")\n",
    "else:\n",
    "    print(\"\\nNo se detectó multicolinealidad severa. Puedes continuar con PCA sin problema.\")\n",
    "\n",
    "# Recomendación final para PCA\n",
    "if (det > 1e-5) and (kmo_modelo >= 0.6) and (p_valor < 0.05):\n",
    "    print(\"\\nCondiciones estadísticas cumplidas para PCA (KMO aceptable y esfericidad válida).\")\n",
    "else:\n",
    "    print(\"\\nCuidado: Condiciones para PCA no son ideales. Considera revisar el dataset.\")\n"
   ]
  },
  {
   "cell_type": "markdown",
   "metadata": {},
   "source": [
    "<small>\n",
    "\n",
    "#### **Análisis de resultados**\n",
    "\n",
    "1. Determinante de la matriz de correlación: -0.00000000\n",
    "\n",
    "   Esto es una señal de multicolinealidad severa. Un determinante cercano a cero (o negativo) significa que hay variables redundantes o muy correlacionadas entre sí, al punto que la matriz es casi singular (no invertible matemáticamente). No es recomendable aplicar PCA hasta hacer limpieza.\n",
    "\n",
    "2. VIFs infinitos (inf)\n",
    "\n",
    "   Cuando el VIF es infinito (inf), significa que una variable se puede predecir perfectamente usando las demás variables. Esto es colinealidad perfecta, una de las peores situaciones para PCA o cualquier modelo lineal.\n",
    "\n",
    "3. Fallo de Bartlett (p-valor nan)\n",
    "\n",
    "   Esto es porque hay un problema matemático al calcular el determinante dentro del test.\n",
    "   Si la matriz de correlación es singular (determinante = 0 o negativo), Bartlett no se puede calcular correctamente. Por eso aparece nan.\n",
    "\n",
    "4. KMO = 0.5965 (Poco aceptable)\n",
    "\n",
    "   Al tener un valor debajo de 0.6, se indica que no es recomendable aplicar PCA sin limpieza previa.\n",
    "\n",
    "</small>\n"
   ]
  },
  {
   "cell_type": "markdown",
   "metadata": {},
   "source": [
    "### Eliminación de variables con varianza baja (casi constantes)\n"
   ]
  },
  {
   "cell_type": "markdown",
   "metadata": {},
   "source": [
    "Según los resultados las variables con valor inf indica una multicolinealidad perfecta (correlación lineal exacta con otras variables).\n"
   ]
  },
  {
   "cell_type": "markdown",
   "metadata": {},
   "source": [
    "**Listado de variables a eliminar**\n"
   ]
  },
  {
   "cell_type": "code",
   "execution_count": 13,
   "metadata": {},
   "outputs": [],
   "source": [
    "variables_a_eliminar = [\n",
    "    'TotalBsmtSF', 'BsmtFinSF1', 'BsmtFinSF2', 'BsmtUnfSF',\n",
    "    '1stFlrSF', '2ndFlrSF', 'LowQualFinSF', 'GrLivArea',  \n",
    "    'YrSold', 'GarageYrBlt', 'YearRemodAdd', 'YearBuilt'  \n",
    "]"
   ]
  },
  {
   "cell_type": "markdown",
   "metadata": {},
   "source": [
    "**Eliminación de variables en DataFrame temporal**\n"
   ]
  },
  {
   "cell_type": "code",
   "execution_count": 14,
   "metadata": {},
   "outputs": [
    {
     "name": "stdout",
     "output_type": "stream",
     "text": [
      "Variables eliminadas: ['TotalBsmtSF', 'BsmtFinSF1', 'BsmtFinSF2', 'BsmtUnfSF', '1stFlrSF', '2ndFlrSF', 'LowQualFinSF', 'GrLivArea', 'YrSold', 'GarageYrBlt', 'YearRemodAdd', 'YearBuilt']\n",
      "--------------------------------------------------\n",
      "\n",
      "Nueva forma del dataframe temporal: (1460, 24)\n"
     ]
    }
   ],
   "source": [
    "df_houses_temp = df_houses_temp.drop(columns=variables_a_eliminar)\n",
    "\n",
    "print(f'Variables eliminadas: {variables_a_eliminar}')\n",
    "print(\"-\"*50)\n",
    "print(f'\\nNueva forma del dataframe temporal: {df_houses_temp.shape}')"
   ]
  },
  {
   "cell_type": "markdown",
   "metadata": {},
   "source": [
    "### Análisis de Esfericidad de Bartlett y KMO luego de limpieza\n"
   ]
  },
  {
   "cell_type": "markdown",
   "metadata": {},
   "source": [
    "**Matriz de correlación**\n"
   ]
  },
  {
   "cell_type": "code",
   "execution_count": 15,
   "metadata": {},
   "outputs": [
    {
     "name": "stdout",
     "output_type": "stream",
     "text": [
      "Determinante de la matriz de correlación (después de limpieza): 0.00083177\n"
     ]
    }
   ],
   "source": [
    "corr_matrix = df_houses_temp.corr()\n",
    "det = np.linalg.det(corr_matrix)\n",
    "print(f'Determinante de la matriz de correlación (después de limpieza): {det:.8f}')"
   ]
  },
  {
   "cell_type": "markdown",
   "metadata": {},
   "source": [
    "**Test de esfericidad de Bartlet**\n"
   ]
  },
  {
   "cell_type": "code",
   "execution_count": 16,
   "metadata": {},
   "outputs": [
    {
     "name": "stdout",
     "output_type": "stream",
     "text": [
      "Resultado Test de Bartlett\n",
      "Chi-cuadrado: 10284.515968887566\n",
      "Valor p: 0.0\n"
     ]
    }
   ],
   "source": [
    "chi_cuadrado, p_valor = calculate_bartlett_sphericity(df_houses_temp)\n",
    "\n",
    "print(f'Resultado Test de Bartlett')\n",
    "print(f'Chi-cuadrado: {chi_cuadrado}')\n",
    "print(f'Valor p: {p_valor}')"
   ]
  },
  {
   "cell_type": "markdown",
   "metadata": {},
   "source": [
    "**Test de KMO**\n"
   ]
  },
  {
   "cell_type": "code",
   "execution_count": 17,
   "metadata": {},
   "outputs": [
    {
     "name": "stdout",
     "output_type": "stream",
     "text": [
      "Índice KMO General: 0.7961\n"
     ]
    }
   ],
   "source": [
    "kmo, kmo_general = calculate_kmo(df_houses_temp)\n",
    "\n",
    "print(f'Índice KMO General: {kmo_general:.4f}')"
   ]
  },
  {
   "cell_type": "markdown",
   "metadata": {},
   "source": [
    "#### Análisis para aplicar PCA\n"
   ]
  },
  {
   "cell_type": "code",
   "execution_count": 18,
   "metadata": {},
   "outputs": [
    {
     "name": "stdout",
     "output_type": "stream",
     "text": [
      "Bartlett indica que es posible aplicar PCA (matriz de correlación es significativamente diferente a identidad).\n",
      "KMO indica que la adecuación es aceptable o buena. Puedes aplicar PCA.\n"
     ]
    }
   ],
   "source": [
    "if det < 0.000001:\n",
    "    print('La matriz de correlación aún podría ser casi singular.')\n",
    "if p_valor < 0.05:\n",
    "    print('Bartlett indica que es posible aplicar PCA (matriz de correlación es significativamente diferente a identidad).')\n",
    "else:\n",
    "    print('Bartlett sugiere que PCA no es adecuado (matriz similar a identidad).')\n",
    "\n",
    "if kmo_general < 0.6:\n",
    "    print('KMO indica que la adecuación es pobre. PCA no es recomendable.')\n",
    "elif kmo_general < 0.7:\n",
    "    print('KMO regular, puedes aplicar PCA con precaución.')\n",
    "else:\n",
    "    print('KMO indica que la adecuación es aceptable o buena. Puedes aplicar PCA.')"
   ]
  },
  {
   "cell_type": "markdown",
   "metadata": {},
   "source": [
    "#### Análisis de resultados obtenidos\n"
   ]
  },
  {
   "cell_type": "markdown",
   "metadata": {},
   "source": [
    "<small>\n",
    "\n",
    "Tras realizar una serie de pruebas estadísticas sobre las variables cuantitativas seleccionadas, se evaluó si el dataset era adecuado para aplicar un **Análisis de Componentes Principales (PCA)**. Para ello, se realizaron las siguientes pruebas:\n",
    "\n",
    "1. Determinante de la matriz de correlación\n",
    "2. Test de Esfericidad de Bartlett\n",
    "3. Índice de adecuación muestral KMO\n",
    "\n",
    "En primer lugar, **el determinante de la matriz de correlación resultó ser 0.00083177**, un valor bajo que indica la presencia de colinealidad entre las variables. Este es un resultado esperado y deseado cuando se busca aplicar PCA, ya que este método es más efectivo cuando las variables tienen correlaciones significativas entre sí.\n",
    "\n",
    "Por otro lado, el Test de Esfericidad de Bartlett arrojó un valor de **chi-cuadrado de 10284.52** con un **p-valor de 0.0**. Este resultado es altamente significativo (p < 0.05), lo que permite rechazar la hipótesis nula que indica que las variables son no correlacionadas (matriz identidad). _Esto significa que las variables tienen correlaciones suficientemente fuertes entre ellas_.\n",
    "\n",
    "Finalmente, el Índice **KMO obtenido fue de 0.7961**, lo cual se interpreta como una adecuación muestral aceptable tirando a buena. El KMO evalúa si las correlaciones parciales entre pares de variables son lo suficientemente pequeñas para que PCA sea apropiado. Un valor cercano a 1 es deseado, mientras que valores por debajo de 0.6 indicarían problemas de adecuación. Con 0.7961, _se puede concluir que el dataset es razonablemente adecuado para aplicar PCA._\n",
    "\n",
    "</small>\n"
   ]
  },
  {
   "cell_type": "markdown",
   "metadata": {},
   "source": [
    "### Análisis de componentes\n"
   ]
  },
  {
   "cell_type": "markdown",
   "metadata": {},
   "source": [
    "**Variables seleccionadas**\n"
   ]
  },
  {
   "cell_type": "code",
   "execution_count": 19,
   "metadata": {},
   "outputs": [],
   "source": [
    "variables_seleccionadas = [\n",
    "    'OverallQual', 'OverallCond', 'MasVnrArea', 'BsmtFullBath',\n",
    "    'FullBath', 'HalfBath', 'BedroomAbvGr', 'KitchenAbvGr',\n",
    "    'TotRmsAbvGrd', 'Fireplaces', 'GarageCars', 'WoodDeckSF',\n",
    "    'OpenPorchSF', 'EnclosedPorch', '3SsnPorch', 'ScreenPorch',\n",
    "    'PoolArea', 'MiscVal', 'MoSold', 'YrSold', 'SalePrice'\n",
    "]\n",
    "\n",
    "df_houses_pca_temp = df_houses[variables_seleccionadas].copy()\n",
    "\n",
    "df_houses_pca_temp = df_houses_pca_temp.fillna(df_houses_pca_temp.median())"
   ]
  },
  {
   "cell_type": "markdown",
   "metadata": {},
   "source": [
    "**Pipeline - Escalamiento y PCA**\n"
   ]
  },
  {
   "cell_type": "code",
   "execution_count": 20,
   "metadata": {},
   "outputs": [],
   "source": [
    "pca_pipe = make_pipeline(StandardScaler(), PCA())\n",
    "pca_pipe.fit(df_houses_pca_temp)\n",
    "\n",
    "modelo_pca = pca_pipe.named_steps['pca']"
   ]
  },
  {
   "cell_type": "markdown",
   "metadata": {},
   "source": [
    "**Cantidad de componentes generados**\n"
   ]
  },
  {
   "cell_type": "code",
   "execution_count": 21,
   "metadata": {},
   "outputs": [
    {
     "name": "stdout",
     "output_type": "stream",
     "text": [
      "Cantidad de Componentes Generados: 21\n"
     ]
    }
   ],
   "source": [
    "print(f'Cantidad de Componentes Generados: {len(modelo_pca.components_)}')"
   ]
  },
  {
   "cell_type": "markdown",
   "metadata": {},
   "source": [
    "**Resultado del PCA**\n"
   ]
  },
  {
   "cell_type": "code",
   "execution_count": 22,
   "metadata": {},
   "outputs": [
    {
     "name": "stdout",
     "output_type": "stream",
     "text": [
      "Resultado del PCA:\n"
     ]
    },
    {
     "data": {
      "text/html": [
       "<div>\n",
       "<style scoped>\n",
       "    .dataframe tbody tr th:only-of-type {\n",
       "        vertical-align: middle;\n",
       "    }\n",
       "\n",
       "    .dataframe tbody tr th {\n",
       "        vertical-align: top;\n",
       "    }\n",
       "\n",
       "    .dataframe thead th {\n",
       "        text-align: right;\n",
       "    }\n",
       "</style>\n",
       "<table border=\"1\" class=\"dataframe\">\n",
       "  <thead>\n",
       "    <tr style=\"text-align: right;\">\n",
       "      <th></th>\n",
       "      <th>OverallQual</th>\n",
       "      <th>OverallCond</th>\n",
       "      <th>MasVnrArea</th>\n",
       "      <th>BsmtFullBath</th>\n",
       "      <th>FullBath</th>\n",
       "      <th>HalfBath</th>\n",
       "      <th>BedroomAbvGr</th>\n",
       "      <th>KitchenAbvGr</th>\n",
       "      <th>TotRmsAbvGrd</th>\n",
       "      <th>Fireplaces</th>\n",
       "      <th>...</th>\n",
       "      <th>WoodDeckSF</th>\n",
       "      <th>OpenPorchSF</th>\n",
       "      <th>EnclosedPorch</th>\n",
       "      <th>3SsnPorch</th>\n",
       "      <th>ScreenPorch</th>\n",
       "      <th>PoolArea</th>\n",
       "      <th>MiscVal</th>\n",
       "      <th>MoSold</th>\n",
       "      <th>YrSold</th>\n",
       "      <th>SalePrice</th>\n",
       "    </tr>\n",
       "  </thead>\n",
       "  <tbody>\n",
       "    <tr>\n",
       "      <th>PC1</th>\n",
       "      <td>0.390677</td>\n",
       "      <td>-0.084364</td>\n",
       "      <td>0.263504</td>\n",
       "      <td>0.067460</td>\n",
       "      <td>0.342043</td>\n",
       "      <td>0.206607</td>\n",
       "      <td>0.183858</td>\n",
       "      <td>-0.020245</td>\n",
       "      <td>0.341840</td>\n",
       "      <td>0.263559</td>\n",
       "      <td>...</td>\n",
       "      <td>0.176653</td>\n",
       "      <td>0.200678</td>\n",
       "      <td>-0.086987</td>\n",
       "      <td>0.014408</td>\n",
       "      <td>0.061274</td>\n",
       "      <td>0.057166</td>\n",
       "      <td>-0.015106</td>\n",
       "      <td>0.039575</td>\n",
       "      <td>-0.026024</td>\n",
       "      <td>0.422237</td>\n",
       "    </tr>\n",
       "    <tr>\n",
       "      <th>PC2</th>\n",
       "      <td>-0.162725</td>\n",
       "      <td>0.002956</td>\n",
       "      <td>-0.104116</td>\n",
       "      <td>-0.352141</td>\n",
       "      <td>0.196949</td>\n",
       "      <td>0.076582</td>\n",
       "      <td>0.538052</td>\n",
       "      <td>0.446723</td>\n",
       "      <td>0.411448</td>\n",
       "      <td>-0.126462</td>\n",
       "      <td>...</td>\n",
       "      <td>-0.177486</td>\n",
       "      <td>-0.034416</td>\n",
       "      <td>0.168538</td>\n",
       "      <td>-0.048202</td>\n",
       "      <td>-0.051131</td>\n",
       "      <td>0.011244</td>\n",
       "      <td>0.085605</td>\n",
       "      <td>0.043677</td>\n",
       "      <td>-0.051383</td>\n",
       "      <td>-0.149538</td>\n",
       "    </tr>\n",
       "    <tr>\n",
       "      <th>PC3</th>\n",
       "      <td>-0.014624</td>\n",
       "      <td>0.511947</td>\n",
       "      <td>-0.105337</td>\n",
       "      <td>-0.041968</td>\n",
       "      <td>-0.218935</td>\n",
       "      <td>0.194860</td>\n",
       "      <td>0.128850</td>\n",
       "      <td>-0.282017</td>\n",
       "      <td>0.063089</td>\n",
       "      <td>0.290162</td>\n",
       "      <td>...</td>\n",
       "      <td>-0.057742</td>\n",
       "      <td>0.139612</td>\n",
       "      <td>0.184817</td>\n",
       "      <td>-0.076806</td>\n",
       "      <td>0.467124</td>\n",
       "      <td>0.290807</td>\n",
       "      <td>0.220715</td>\n",
       "      <td>0.009116</td>\n",
       "      <td>-0.064589</td>\n",
       "      <td>0.017236</td>\n",
       "    </tr>\n",
       "    <tr>\n",
       "      <th>PC4</th>\n",
       "      <td>-0.060407</td>\n",
       "      <td>0.083387</td>\n",
       "      <td>0.049764</td>\n",
       "      <td>0.315057</td>\n",
       "      <td>-0.024556</td>\n",
       "      <td>-0.035366</td>\n",
       "      <td>0.070543</td>\n",
       "      <td>0.178138</td>\n",
       "      <td>0.105362</td>\n",
       "      <td>0.053227</td>\n",
       "      <td>...</td>\n",
       "      <td>0.249982</td>\n",
       "      <td>-0.229240</td>\n",
       "      <td>0.154646</td>\n",
       "      <td>-0.112993</td>\n",
       "      <td>-0.088320</td>\n",
       "      <td>0.168975</td>\n",
       "      <td>0.139809</td>\n",
       "      <td>-0.554000</td>\n",
       "      <td>0.563818</td>\n",
       "      <td>0.038361</td>\n",
       "    </tr>\n",
       "    <tr>\n",
       "      <th>PC5</th>\n",
       "      <td>-0.002251</td>\n",
       "      <td>-0.083906</td>\n",
       "      <td>-0.117457</td>\n",
       "      <td>0.274716</td>\n",
       "      <td>0.022335</td>\n",
       "      <td>-0.289283</td>\n",
       "      <td>-0.018637</td>\n",
       "      <td>0.084075</td>\n",
       "      <td>0.005334</td>\n",
       "      <td>0.062912</td>\n",
       "      <td>...</td>\n",
       "      <td>0.241210</td>\n",
       "      <td>-0.026617</td>\n",
       "      <td>0.380684</td>\n",
       "      <td>-0.166378</td>\n",
       "      <td>-0.297972</td>\n",
       "      <td>0.509749</td>\n",
       "      <td>0.024071</td>\n",
       "      <td>0.232842</td>\n",
       "      <td>-0.414460</td>\n",
       "      <td>0.036710</td>\n",
       "    </tr>\n",
       "    <tr>\n",
       "      <th>PC6</th>\n",
       "      <td>0.108766</td>\n",
       "      <td>0.464513</td>\n",
       "      <td>-0.051572</td>\n",
       "      <td>-0.153148</td>\n",
       "      <td>0.074163</td>\n",
       "      <td>-0.106697</td>\n",
       "      <td>0.029355</td>\n",
       "      <td>-0.160671</td>\n",
       "      <td>0.028927</td>\n",
       "      <td>-0.026292</td>\n",
       "      <td>...</td>\n",
       "      <td>0.179059</td>\n",
       "      <td>-0.108953</td>\n",
       "      <td>0.176989</td>\n",
       "      <td>0.615886</td>\n",
       "      <td>-0.419373</td>\n",
       "      <td>-0.148776</td>\n",
       "      <td>0.133337</td>\n",
       "      <td>0.127076</td>\n",
       "      <td>0.090599</td>\n",
       "      <td>0.080254</td>\n",
       "    </tr>\n",
       "    <tr>\n",
       "      <th>PC7</th>\n",
       "      <td>-0.067460</td>\n",
       "      <td>0.000755</td>\n",
       "      <td>-0.032950</td>\n",
       "      <td>0.276685</td>\n",
       "      <td>0.046276</td>\n",
       "      <td>-0.251129</td>\n",
       "      <td>-0.072263</td>\n",
       "      <td>0.387273</td>\n",
       "      <td>-0.007261</td>\n",
       "      <td>0.031021</td>\n",
       "      <td>...</td>\n",
       "      <td>0.019343</td>\n",
       "      <td>-0.025701</td>\n",
       "      <td>-0.345632</td>\n",
       "      <td>0.231975</td>\n",
       "      <td>0.305468</td>\n",
       "      <td>0.006967</td>\n",
       "      <td>0.560208</td>\n",
       "      <td>0.330888</td>\n",
       "      <td>0.067420</td>\n",
       "      <td>0.012102</td>\n",
       "    </tr>\n",
       "    <tr>\n",
       "      <th>PC8</th>\n",
       "      <td>-0.074839</td>\n",
       "      <td>0.261139</td>\n",
       "      <td>-0.103674</td>\n",
       "      <td>0.001082</td>\n",
       "      <td>-0.065437</td>\n",
       "      <td>0.179579</td>\n",
       "      <td>0.111252</td>\n",
       "      <td>-0.044122</td>\n",
       "      <td>0.034472</td>\n",
       "      <td>-0.086709</td>\n",
       "      <td>...</td>\n",
       "      <td>0.547143</td>\n",
       "      <td>0.017266</td>\n",
       "      <td>-0.364533</td>\n",
       "      <td>-0.491983</td>\n",
       "      <td>-0.221459</td>\n",
       "      <td>-0.252846</td>\n",
       "      <td>0.078708</td>\n",
       "      <td>0.226366</td>\n",
       "      <td>-0.020497</td>\n",
       "      <td>-0.048266</td>\n",
       "    </tr>\n",
       "    <tr>\n",
       "      <th>PC9</th>\n",
       "      <td>0.088086</td>\n",
       "      <td>-0.174351</td>\n",
       "      <td>0.107033</td>\n",
       "      <td>-0.298774</td>\n",
       "      <td>0.033808</td>\n",
       "      <td>0.153310</td>\n",
       "      <td>-0.158963</td>\n",
       "      <td>-0.158594</td>\n",
       "      <td>-0.087575</td>\n",
       "      <td>-0.124111</td>\n",
       "      <td>...</td>\n",
       "      <td>-0.071703</td>\n",
       "      <td>0.000178</td>\n",
       "      <td>0.002008</td>\n",
       "      <td>-0.134494</td>\n",
       "      <td>-0.222294</td>\n",
       "      <td>0.059455</td>\n",
       "      <td>0.720602</td>\n",
       "      <td>-0.322847</td>\n",
       "      <td>-0.237374</td>\n",
       "      <td>0.004694</td>\n",
       "    </tr>\n",
       "    <tr>\n",
       "      <th>PC10</th>\n",
       "      <td>-0.130860</td>\n",
       "      <td>-0.092986</td>\n",
       "      <td>-0.152735</td>\n",
       "      <td>0.018601</td>\n",
       "      <td>-0.024481</td>\n",
       "      <td>0.271840</td>\n",
       "      <td>0.099715</td>\n",
       "      <td>-0.032094</td>\n",
       "      <td>0.003179</td>\n",
       "      <td>-0.172901</td>\n",
       "      <td>...</td>\n",
       "      <td>0.153292</td>\n",
       "      <td>0.233623</td>\n",
       "      <td>-0.476637</td>\n",
       "      <td>0.393101</td>\n",
       "      <td>-0.111486</td>\n",
       "      <td>0.529786</td>\n",
       "      <td>-0.131619</td>\n",
       "      <td>-0.195366</td>\n",
       "      <td>-0.066959</td>\n",
       "      <td>-0.100464</td>\n",
       "    </tr>\n",
       "    <tr>\n",
       "      <th>PC11</th>\n",
       "      <td>0.100532</td>\n",
       "      <td>0.094575</td>\n",
       "      <td>-0.309809</td>\n",
       "      <td>0.151092</td>\n",
       "      <td>0.131298</td>\n",
       "      <td>-0.085885</td>\n",
       "      <td>-0.099322</td>\n",
       "      <td>0.038647</td>\n",
       "      <td>-0.022232</td>\n",
       "      <td>-0.184012</td>\n",
       "      <td>...</td>\n",
       "      <td>-0.224068</td>\n",
       "      <td>0.760336</td>\n",
       "      <td>0.129546</td>\n",
       "      <td>-0.143240</td>\n",
       "      <td>-0.183298</td>\n",
       "      <td>-0.062802</td>\n",
       "      <td>0.081426</td>\n",
       "      <td>0.011062</td>\n",
       "      <td>0.284705</td>\n",
       "      <td>0.028927</td>\n",
       "    </tr>\n",
       "    <tr>\n",
       "      <th>PC12</th>\n",
       "      <td>-0.132359</td>\n",
       "      <td>-0.256264</td>\n",
       "      <td>0.067076</td>\n",
       "      <td>0.404536</td>\n",
       "      <td>-0.316227</td>\n",
       "      <td>0.586954</td>\n",
       "      <td>0.034547</td>\n",
       "      <td>0.070507</td>\n",
       "      <td>0.060929</td>\n",
       "      <td>0.136197</td>\n",
       "      <td>...</td>\n",
       "      <td>-0.034404</td>\n",
       "      <td>0.075674</td>\n",
       "      <td>0.271378</td>\n",
       "      <td>0.203014</td>\n",
       "      <td>-0.171549</td>\n",
       "      <td>-0.258386</td>\n",
       "      <td>0.127011</td>\n",
       "      <td>0.162649</td>\n",
       "      <td>-0.046999</td>\n",
       "      <td>-0.059057</td>\n",
       "    </tr>\n",
       "    <tr>\n",
       "      <th>PC13</th>\n",
       "      <td>0.048294</td>\n",
       "      <td>-0.362365</td>\n",
       "      <td>-0.130249</td>\n",
       "      <td>-0.324884</td>\n",
       "      <td>0.057231</td>\n",
       "      <td>0.141210</td>\n",
       "      <td>-0.048700</td>\n",
       "      <td>-0.203302</td>\n",
       "      <td>-0.082676</td>\n",
       "      <td>0.090427</td>\n",
       "      <td>...</td>\n",
       "      <td>0.095380</td>\n",
       "      <td>-0.120815</td>\n",
       "      <td>0.105193</td>\n",
       "      <td>-0.051698</td>\n",
       "      <td>-0.001116</td>\n",
       "      <td>0.283689</td>\n",
       "      <td>0.080794</td>\n",
       "      <td>0.464226</td>\n",
       "      <td>0.563537</td>\n",
       "      <td>-0.062464</td>\n",
       "    </tr>\n",
       "    <tr>\n",
       "      <th>PC14</th>\n",
       "      <td>0.044670</td>\n",
       "      <td>0.303574</td>\n",
       "      <td>0.660457</td>\n",
       "      <td>0.025195</td>\n",
       "      <td>-0.154997</td>\n",
       "      <td>0.123527</td>\n",
       "      <td>-0.069898</td>\n",
       "      <td>0.151994</td>\n",
       "      <td>-0.049455</td>\n",
       "      <td>-0.365482</td>\n",
       "      <td>...</td>\n",
       "      <td>-0.242410</td>\n",
       "      <td>0.004401</td>\n",
       "      <td>-0.030370</td>\n",
       "      <td>-0.119742</td>\n",
       "      <td>-0.144395</td>\n",
       "      <td>0.291664</td>\n",
       "      <td>-0.047121</td>\n",
       "      <td>0.253313</td>\n",
       "      <td>0.134984</td>\n",
       "      <td>0.033779</td>\n",
       "    </tr>\n",
       "    <tr>\n",
       "      <th>PC15</th>\n",
       "      <td>-0.198178</td>\n",
       "      <td>-0.161114</td>\n",
       "      <td>0.491293</td>\n",
       "      <td>-0.249729</td>\n",
       "      <td>-0.034024</td>\n",
       "      <td>-0.268885</td>\n",
       "      <td>-0.017698</td>\n",
       "      <td>0.053250</td>\n",
       "      <td>-0.039114</td>\n",
       "      <td>0.241247</td>\n",
       "      <td>...</td>\n",
       "      <td>0.367509</td>\n",
       "      <td>0.437845</td>\n",
       "      <td>0.105358</td>\n",
       "      <td>0.105016</td>\n",
       "      <td>0.056943</td>\n",
       "      <td>-0.087593</td>\n",
       "      <td>0.010335</td>\n",
       "      <td>-0.062038</td>\n",
       "      <td>0.015851</td>\n",
       "      <td>-0.119171</td>\n",
       "    </tr>\n",
       "    <tr>\n",
       "      <th>PC16</th>\n",
       "      <td>0.009523</td>\n",
       "      <td>0.164772</td>\n",
       "      <td>-0.071172</td>\n",
       "      <td>-0.181950</td>\n",
       "      <td>-0.046932</td>\n",
       "      <td>0.081944</td>\n",
       "      <td>-0.291300</td>\n",
       "      <td>0.350434</td>\n",
       "      <td>-0.026196</td>\n",
       "      <td>0.669049</td>\n",
       "      <td>...</td>\n",
       "      <td>-0.248364</td>\n",
       "      <td>-0.017422</td>\n",
       "      <td>-0.232295</td>\n",
       "      <td>-0.086214</td>\n",
       "      <td>-0.360468</td>\n",
       "      <td>0.088189</td>\n",
       "      <td>-0.078833</td>\n",
       "      <td>-0.026520</td>\n",
       "      <td>0.015680</td>\n",
       "      <td>-0.029135</td>\n",
       "    </tr>\n",
       "    <tr>\n",
       "      <th>PC17</th>\n",
       "      <td>0.045729</td>\n",
       "      <td>0.118843</td>\n",
       "      <td>-0.140860</td>\n",
       "      <td>-0.259561</td>\n",
       "      <td>-0.028300</td>\n",
       "      <td>0.291499</td>\n",
       "      <td>-0.413737</td>\n",
       "      <td>0.463936</td>\n",
       "      <td>-0.101540</td>\n",
       "      <td>-0.196135</td>\n",
       "      <td>...</td>\n",
       "      <td>0.362835</td>\n",
       "      <td>0.060289</td>\n",
       "      <td>0.274256</td>\n",
       "      <td>0.071875</td>\n",
       "      <td>0.274753</td>\n",
       "      <td>0.016818</td>\n",
       "      <td>-0.101384</td>\n",
       "      <td>-0.050924</td>\n",
       "      <td>-0.064310</td>\n",
       "      <td>0.015388</td>\n",
       "    </tr>\n",
       "    <tr>\n",
       "      <th>PC18</th>\n",
       "      <td>-0.314959</td>\n",
       "      <td>0.003407</td>\n",
       "      <td>0.017582</td>\n",
       "      <td>-0.103949</td>\n",
       "      <td>-0.423516</td>\n",
       "      <td>-0.175277</td>\n",
       "      <td>0.231176</td>\n",
       "      <td>-0.064924</td>\n",
       "      <td>0.037927</td>\n",
       "      <td>0.093911</td>\n",
       "      <td>...</td>\n",
       "      <td>0.012683</td>\n",
       "      <td>0.152617</td>\n",
       "      <td>-0.011193</td>\n",
       "      <td>0.006760</td>\n",
       "      <td>-0.065979</td>\n",
       "      <td>0.031225</td>\n",
       "      <td>0.028374</td>\n",
       "      <td>0.007907</td>\n",
       "      <td>0.067278</td>\n",
       "      <td>-0.146343</td>\n",
       "    </tr>\n",
       "    <tr>\n",
       "      <th>PC19</th>\n",
       "      <td>-0.428628</td>\n",
       "      <td>0.165840</td>\n",
       "      <td>0.133707</td>\n",
       "      <td>0.161422</td>\n",
       "      <td>0.668965</td>\n",
       "      <td>0.201637</td>\n",
       "      <td>0.008759</td>\n",
       "      <td>-0.106158</td>\n",
       "      <td>-0.306887</td>\n",
       "      <td>0.117066</td>\n",
       "      <td>...</td>\n",
       "      <td>-0.023037</td>\n",
       "      <td>-0.008743</td>\n",
       "      <td>0.082415</td>\n",
       "      <td>-0.019914</td>\n",
       "      <td>0.021845</td>\n",
       "      <td>0.013829</td>\n",
       "      <td>0.008534</td>\n",
       "      <td>0.022868</td>\n",
       "      <td>-0.019423</td>\n",
       "      <td>-0.295286</td>\n",
       "    </tr>\n",
       "    <tr>\n",
       "      <th>PC20</th>\n",
       "      <td>-0.544369</td>\n",
       "      <td>-0.002242</td>\n",
       "      <td>-0.014778</td>\n",
       "      <td>-0.027870</td>\n",
       "      <td>0.068165</td>\n",
       "      <td>-0.023476</td>\n",
       "      <td>-0.458631</td>\n",
       "      <td>-0.193385</td>\n",
       "      <td>0.587431</td>\n",
       "      <td>-0.090019</td>\n",
       "      <td>...</td>\n",
       "      <td>-0.053099</td>\n",
       "      <td>-0.029539</td>\n",
       "      <td>-0.016876</td>\n",
       "      <td>-0.016777</td>\n",
       "      <td>-0.006599</td>\n",
       "      <td>0.007983</td>\n",
       "      <td>-0.014443</td>\n",
       "      <td>0.045233</td>\n",
       "      <td>0.012811</td>\n",
       "      <td>0.298085</td>\n",
       "    </tr>\n",
       "    <tr>\n",
       "      <th>PC21</th>\n",
       "      <td>-0.342769</td>\n",
       "      <td>-0.030785</td>\n",
       "      <td>-0.068917</td>\n",
       "      <td>-0.110404</td>\n",
       "      <td>-0.035938</td>\n",
       "      <td>0.037898</td>\n",
       "      <td>0.250145</td>\n",
       "      <td>0.114511</td>\n",
       "      <td>-0.471467</td>\n",
       "      <td>-0.001371</td>\n",
       "      <td>...</td>\n",
       "      <td>-0.041049</td>\n",
       "      <td>0.006608</td>\n",
       "      <td>0.016779</td>\n",
       "      <td>-0.015337</td>\n",
       "      <td>-0.036685</td>\n",
       "      <td>-0.010060</td>\n",
       "      <td>0.002815</td>\n",
       "      <td>-0.003020</td>\n",
       "      <td>0.008820</td>\n",
       "      <td>0.745041</td>\n",
       "    </tr>\n",
       "  </tbody>\n",
       "</table>\n",
       "<p>21 rows × 21 columns</p>\n",
       "</div>"
      ],
      "text/plain": [
       "      OverallQual  OverallCond  MasVnrArea  BsmtFullBath  FullBath  HalfBath  \\\n",
       "PC1      0.390677    -0.084364    0.263504      0.067460  0.342043  0.206607   \n",
       "PC2     -0.162725     0.002956   -0.104116     -0.352141  0.196949  0.076582   \n",
       "PC3     -0.014624     0.511947   -0.105337     -0.041968 -0.218935  0.194860   \n",
       "PC4     -0.060407     0.083387    0.049764      0.315057 -0.024556 -0.035366   \n",
       "PC5     -0.002251    -0.083906   -0.117457      0.274716  0.022335 -0.289283   \n",
       "PC6      0.108766     0.464513   -0.051572     -0.153148  0.074163 -0.106697   \n",
       "PC7     -0.067460     0.000755   -0.032950      0.276685  0.046276 -0.251129   \n",
       "PC8     -0.074839     0.261139   -0.103674      0.001082 -0.065437  0.179579   \n",
       "PC9      0.088086    -0.174351    0.107033     -0.298774  0.033808  0.153310   \n",
       "PC10    -0.130860    -0.092986   -0.152735      0.018601 -0.024481  0.271840   \n",
       "PC11     0.100532     0.094575   -0.309809      0.151092  0.131298 -0.085885   \n",
       "PC12    -0.132359    -0.256264    0.067076      0.404536 -0.316227  0.586954   \n",
       "PC13     0.048294    -0.362365   -0.130249     -0.324884  0.057231  0.141210   \n",
       "PC14     0.044670     0.303574    0.660457      0.025195 -0.154997  0.123527   \n",
       "PC15    -0.198178    -0.161114    0.491293     -0.249729 -0.034024 -0.268885   \n",
       "PC16     0.009523     0.164772   -0.071172     -0.181950 -0.046932  0.081944   \n",
       "PC17     0.045729     0.118843   -0.140860     -0.259561 -0.028300  0.291499   \n",
       "PC18    -0.314959     0.003407    0.017582     -0.103949 -0.423516 -0.175277   \n",
       "PC19    -0.428628     0.165840    0.133707      0.161422  0.668965  0.201637   \n",
       "PC20    -0.544369    -0.002242   -0.014778     -0.027870  0.068165 -0.023476   \n",
       "PC21    -0.342769    -0.030785   -0.068917     -0.110404 -0.035938  0.037898   \n",
       "\n",
       "      BedroomAbvGr  KitchenAbvGr  TotRmsAbvGrd  Fireplaces  ...  WoodDeckSF  \\\n",
       "PC1       0.183858     -0.020245      0.341840    0.263559  ...    0.176653   \n",
       "PC2       0.538052      0.446723      0.411448   -0.126462  ...   -0.177486   \n",
       "PC3       0.128850     -0.282017      0.063089    0.290162  ...   -0.057742   \n",
       "PC4       0.070543      0.178138      0.105362    0.053227  ...    0.249982   \n",
       "PC5      -0.018637      0.084075      0.005334    0.062912  ...    0.241210   \n",
       "PC6       0.029355     -0.160671      0.028927   -0.026292  ...    0.179059   \n",
       "PC7      -0.072263      0.387273     -0.007261    0.031021  ...    0.019343   \n",
       "PC8       0.111252     -0.044122      0.034472   -0.086709  ...    0.547143   \n",
       "PC9      -0.158963     -0.158594     -0.087575   -0.124111  ...   -0.071703   \n",
       "PC10      0.099715     -0.032094      0.003179   -0.172901  ...    0.153292   \n",
       "PC11     -0.099322      0.038647     -0.022232   -0.184012  ...   -0.224068   \n",
       "PC12      0.034547      0.070507      0.060929    0.136197  ...   -0.034404   \n",
       "PC13     -0.048700     -0.203302     -0.082676    0.090427  ...    0.095380   \n",
       "PC14     -0.069898      0.151994     -0.049455   -0.365482  ...   -0.242410   \n",
       "PC15     -0.017698      0.053250     -0.039114    0.241247  ...    0.367509   \n",
       "PC16     -0.291300      0.350434     -0.026196    0.669049  ...   -0.248364   \n",
       "PC17     -0.413737      0.463936     -0.101540   -0.196135  ...    0.362835   \n",
       "PC18      0.231176     -0.064924      0.037927    0.093911  ...    0.012683   \n",
       "PC19      0.008759     -0.106158     -0.306887    0.117066  ...   -0.023037   \n",
       "PC20     -0.458631     -0.193385      0.587431   -0.090019  ...   -0.053099   \n",
       "PC21      0.250145      0.114511     -0.471467   -0.001371  ...   -0.041049   \n",
       "\n",
       "      OpenPorchSF  EnclosedPorch  3SsnPorch  ScreenPorch  PoolArea   MiscVal  \\\n",
       "PC1      0.200678      -0.086987   0.014408     0.061274  0.057166 -0.015106   \n",
       "PC2     -0.034416       0.168538  -0.048202    -0.051131  0.011244  0.085605   \n",
       "PC3      0.139612       0.184817  -0.076806     0.467124  0.290807  0.220715   \n",
       "PC4     -0.229240       0.154646  -0.112993    -0.088320  0.168975  0.139809   \n",
       "PC5     -0.026617       0.380684  -0.166378    -0.297972  0.509749  0.024071   \n",
       "PC6     -0.108953       0.176989   0.615886    -0.419373 -0.148776  0.133337   \n",
       "PC7     -0.025701      -0.345632   0.231975     0.305468  0.006967  0.560208   \n",
       "PC8      0.017266      -0.364533  -0.491983    -0.221459 -0.252846  0.078708   \n",
       "PC9      0.000178       0.002008  -0.134494    -0.222294  0.059455  0.720602   \n",
       "PC10     0.233623      -0.476637   0.393101    -0.111486  0.529786 -0.131619   \n",
       "PC11     0.760336       0.129546  -0.143240    -0.183298 -0.062802  0.081426   \n",
       "PC12     0.075674       0.271378   0.203014    -0.171549 -0.258386  0.127011   \n",
       "PC13    -0.120815       0.105193  -0.051698    -0.001116  0.283689  0.080794   \n",
       "PC14     0.004401      -0.030370  -0.119742    -0.144395  0.291664 -0.047121   \n",
       "PC15     0.437845       0.105358   0.105016     0.056943 -0.087593  0.010335   \n",
       "PC16    -0.017422      -0.232295  -0.086214    -0.360468  0.088189 -0.078833   \n",
       "PC17     0.060289       0.274256   0.071875     0.274753  0.016818 -0.101384   \n",
       "PC18     0.152617      -0.011193   0.006760    -0.065979  0.031225  0.028374   \n",
       "PC19    -0.008743       0.082415  -0.019914     0.021845  0.013829  0.008534   \n",
       "PC20    -0.029539      -0.016876  -0.016777    -0.006599  0.007983 -0.014443   \n",
       "PC21     0.006608       0.016779  -0.015337    -0.036685 -0.010060  0.002815   \n",
       "\n",
       "        MoSold    YrSold  SalePrice  \n",
       "PC1   0.039575 -0.026024   0.422237  \n",
       "PC2   0.043677 -0.051383  -0.149538  \n",
       "PC3   0.009116 -0.064589   0.017236  \n",
       "PC4  -0.554000  0.563818   0.038361  \n",
       "PC5   0.232842 -0.414460   0.036710  \n",
       "PC6   0.127076  0.090599   0.080254  \n",
       "PC7   0.330888  0.067420   0.012102  \n",
       "PC8   0.226366 -0.020497  -0.048266  \n",
       "PC9  -0.322847 -0.237374   0.004694  \n",
       "PC10 -0.195366 -0.066959  -0.100464  \n",
       "PC11  0.011062  0.284705   0.028927  \n",
       "PC12  0.162649 -0.046999  -0.059057  \n",
       "PC13  0.464226  0.563537  -0.062464  \n",
       "PC14  0.253313  0.134984   0.033779  \n",
       "PC15 -0.062038  0.015851  -0.119171  \n",
       "PC16 -0.026520  0.015680  -0.029135  \n",
       "PC17 -0.050924 -0.064310   0.015388  \n",
       "PC18  0.007907  0.067278  -0.146343  \n",
       "PC19  0.022868 -0.019423  -0.295286  \n",
       "PC20  0.045233  0.012811   0.298085  \n",
       "PC21 -0.003020  0.008820   0.745041  \n",
       "\n",
       "[21 rows x 21 columns]"
      ]
     },
     "metadata": {},
     "output_type": "display_data"
    }
   ],
   "source": [
    "print(\"Resultado del PCA:\")\n",
    "df_cargas = pd.DataFrame(\n",
    "    data=modelo_pca.components_,\n",
    "    columns=df_houses_pca_temp.columns,\n",
    "    index=[f'PC{i+1}' for i in range(modelo_pca.n_components_)]\n",
    ")\n",
    "display(df_cargas)"
   ]
  },
  {
   "cell_type": "markdown",
   "metadata": {},
   "source": [
    "**Visualización de las cargas con matriz de calor**\n"
   ]
  },
  {
   "cell_type": "code",
   "execution_count": 23,
   "metadata": {},
   "outputs": [
    {
     "data": {
      "image/png": "[encoded data removed]",
      "text/plain": [
       "<Figure size 1200x600 with 2 Axes>"
      ]
     },
     "metadata": {},
     "output_type": "display_data"
    }
   ],
   "source": [
    "plt.figure(figsize=(12, 6))\n",
    "plt.imshow(modelo_pca.components_.T, cmap='coolwarm', aspect='auto')\n",
    "plt.colorbar()\n",
    "plt.yticks(range(len(df_houses_pca_temp.columns)), df_houses_pca_temp.columns)\n",
    "plt.xticks(range(modelo_pca.n_components_), [f'PC{i+1}' for i in range(modelo_pca.n_components_)])\n",
    "plt.title('Matriz de cargas - PCA')\n",
    "plt.show()"
   ]
  },
  {
   "cell_type": "markdown",
   "metadata": {},
   "source": [
    "**Varianza explicada por componente**\n"
   ]
  },
  {
   "cell_type": "code",
   "execution_count": 24,
   "metadata": {},
   "outputs": [
    {
     "name": "stdout",
     "output_type": "stream",
     "text": [
      "Porcentaje de varianza explicada por cada componente:\n",
      "\n",
      "[0.20704066 0.08575208 0.06073409 0.05698193 0.05315861 0.05008486\n",
      " 0.04931933 0.04744086 0.04549111 0.04520472 0.04251504 0.04081704\n",
      " 0.03756527 0.03463564 0.03078169 0.02986314 0.02936188 0.02003839\n",
      " 0.01539363 0.01024867 0.00757135]\n"
     ]
    },
    {
     "data": {
      "image/png": "[encoded data removed]",
      "text/plain": [
       "<Figure size 800x400 with 1 Axes>"
      ]
     },
     "metadata": {},
     "output_type": "display_data"
    }
   ],
   "source": [
    "print('Porcentaje de varianza explicada por cada componente:\\n')\n",
    "print(modelo_pca.explained_variance_ratio_)\n",
    "\n",
    "# Gráfico de varianza explicada\n",
    "plt.figure(figsize=(8, 4))\n",
    "plt.bar(\n",
    "    x=np.arange(modelo_pca.n_components_) + 1,\n",
    "    height=modelo_pca.explained_variance_ratio_\n",
    ")\n",
    "\n",
    "for x, y in zip(np.arange(modelo_pca.n_components_) + 1, modelo_pca.explained_variance_ratio_):\n",
    "    plt.annotate(f'{y:.2f}', (x, y), textcoords=\"offset points\", xytext=(0, 10), ha='center')\n",
    "\n",
    "plt.xticks(np.arange(modelo_pca.n_components_) + 1)\n",
    "plt.title('Porcentaje de varianza explicada por cada componente')\n",
    "plt.xlabel('Componente Principal')\n",
    "plt.ylabel('Varianza Explicada')\n",
    "plt.show()"
   ]
  },
  {
   "cell_type": "markdown",
   "metadata": {},
   "source": [
    "**Varianza explicada acumulada**\n"
   ]
  },
  {
   "cell_type": "code",
   "execution_count": 25,
   "metadata": {},
   "outputs": [
    {
     "name": "stdout",
     "output_type": "stream",
     "text": [
      "Porcentaje de varianza explicada acumulada:\n",
      "\n",
      "[0.20704066 0.29279274 0.35352684 0.41050877 0.46366738 0.51375225\n",
      " 0.56307158 0.61051244 0.65600355 0.70120827 0.7437233  0.78454034\n",
      " 0.82210561 0.85674125 0.88752294 0.91738608 0.94674796 0.96678635\n",
      " 0.98217998 0.99242865 1.        ]\n"
     ]
    },
    {
     "data": {
      "image/png": "[encoded data removed]",
      "text/plain": [
       "<Figure size 800x400 with 1 Axes>"
      ]
     },
     "metadata": {},
     "output_type": "display_data"
    }
   ],
   "source": [
    "prop_varianza_acum = modelo_pca.explained_variance_ratio_.cumsum()\n",
    "\n",
    "print('Porcentaje de varianza explicada acumulada:\\n')\n",
    "print(prop_varianza_acum)\n",
    "\n",
    "# Gráfico de varianza acumulada\n",
    "plt.figure(figsize=(8, 4))\n",
    "plt.plot(np.arange(len(variables_seleccionadas)) + 1, prop_varianza_acum, marker='o')\n",
    "\n",
    "for x, y in zip(np.arange(len(variables_seleccionadas)) + 1, prop_varianza_acum):\n",
    "    plt.annotate(f'{y:.2f}', (x, y), textcoords=\"offset points\", xytext=(0, 10), ha='center')\n",
    "\n",
    "plt.xticks(np.arange(modelo_pca.n_components_) + 1)\n",
    "plt.title('Porcentaje de varianza explicada acumulada')\n",
    "plt.xlabel('Número de Componentes')\n",
    "plt.ylabel('Varianza Acumulada')\n",
    "plt.grid(True)\n",
    "plt.show()"
   ]
  },
  {
   "cell_type": "markdown",
   "metadata": {},
   "source": [
    "**Carga de primeros 4 componentes**\n"
   ]
  },
  {
   "cell_type": "code",
   "execution_count": 26,
   "metadata": {},
   "outputs": [
    {
     "name": "stdout",
     "output_type": "stream",
     "text": [
      "Cargas de los primeros 4 componentes principales:\n",
      "Componente 1:\n",
      "  OverallQual: 0.391\n",
      "  OverallCond: -0.084\n",
      "  MasVnrArea: 0.264\n",
      "  BsmtFullBath: 0.067\n",
      "  FullBath: 0.342\n",
      "  HalfBath: 0.207\n",
      "  BedroomAbvGr: 0.184\n",
      "  KitchenAbvGr: -0.020\n",
      "  TotRmsAbvGrd: 0.342\n",
      "  Fireplaces: 0.264\n",
      "  GarageCars: 0.345\n",
      "  WoodDeckSF: 0.177\n",
      "  OpenPorchSF: 0.201\n",
      "  EnclosedPorch: -0.087\n",
      "  3SsnPorch: 0.014\n",
      "  ScreenPorch: 0.061\n",
      "  PoolArea: 0.057\n",
      "  MiscVal: -0.015\n",
      "  MoSold: 0.040\n",
      "  YrSold: -0.026\n",
      "  SalePrice: 0.422\n",
      "---\n",
      "Componente 2:\n",
      "  OverallQual: -0.163\n",
      "  OverallCond: 0.003\n",
      "  MasVnrArea: -0.104\n",
      "  BsmtFullBath: -0.352\n",
      "  FullBath: 0.197\n",
      "  HalfBath: 0.077\n",
      "  BedroomAbvGr: 0.538\n",
      "  KitchenAbvGr: 0.447\n",
      "  TotRmsAbvGrd: 0.411\n",
      "  Fireplaces: -0.126\n",
      "  GarageCars: -0.139\n",
      "  WoodDeckSF: -0.177\n",
      "  OpenPorchSF: -0.034\n",
      "  EnclosedPorch: 0.169\n",
      "  3SsnPorch: -0.048\n",
      "  ScreenPorch: -0.051\n",
      "  PoolArea: 0.011\n",
      "  MiscVal: 0.086\n",
      "  MoSold: 0.044\n",
      "  YrSold: -0.051\n",
      "  SalePrice: -0.150\n",
      "---\n",
      "Componente 3:\n",
      "  OverallQual: -0.015\n",
      "  OverallCond: 0.512\n",
      "  MasVnrArea: -0.105\n",
      "  BsmtFullBath: -0.042\n",
      "  FullBath: -0.219\n",
      "  HalfBath: 0.195\n",
      "  BedroomAbvGr: 0.129\n",
      "  KitchenAbvGr: -0.282\n",
      "  TotRmsAbvGrd: 0.063\n",
      "  Fireplaces: 0.290\n",
      "  GarageCars: -0.189\n",
      "  WoodDeckSF: -0.058\n",
      "  OpenPorchSF: 0.140\n",
      "  EnclosedPorch: 0.185\n",
      "  3SsnPorch: -0.077\n",
      "  ScreenPorch: 0.467\n",
      "  PoolArea: 0.291\n",
      "  MiscVal: 0.221\n",
      "  MoSold: 0.009\n",
      "  YrSold: -0.065\n",
      "  SalePrice: 0.017\n",
      "---\n",
      "Componente 4:\n",
      "  OverallQual: -0.060\n",
      "  OverallCond: 0.083\n",
      "  MasVnrArea: 0.050\n",
      "  BsmtFullBath: 0.315\n",
      "  FullBath: -0.025\n",
      "  HalfBath: -0.035\n",
      "  BedroomAbvGr: 0.071\n",
      "  KitchenAbvGr: 0.178\n",
      "  TotRmsAbvGrd: 0.105\n",
      "  Fireplaces: 0.053\n",
      "  GarageCars: -0.036\n",
      "  WoodDeckSF: 0.250\n",
      "  OpenPorchSF: -0.229\n",
      "  EnclosedPorch: 0.155\n",
      "  3SsnPorch: -0.113\n",
      "  ScreenPorch: -0.088\n",
      "  PoolArea: 0.169\n",
      "  MiscVal: 0.140\n",
      "  MoSold: -0.554\n",
      "  YrSold: 0.564\n",
      "  SalePrice: 0.038\n",
      "---\n"
     ]
    }
   ],
   "source": [
    "print(\"Cargas de los primeros 4 componentes principales:\")\n",
    "for i in range(4):\n",
    "    print(f'Componente {i+1}:')\n",
    "    for j, variable in enumerate(df_houses_pca_temp.columns):\n",
    "        print(f'  {variable}: {modelo_pca.components_[i, j]:.3f}')\n",
    "    print('---')"
   ]
  },
  {
   "cell_type": "markdown",
   "metadata": {},
   "source": [
    "**Matriz reducida**\n"
   ]
  },
  {
   "cell_type": "code",
   "execution_count": 27,
   "metadata": {},
   "outputs": [
    {
     "name": "stdout",
     "output_type": "stream",
     "text": [
      "Matriz reducida (primeras 5 filas):\n",
      "             PC1           PC2          PC3           PC4          PC5  \\\n",
      "0   88055.430665 -31300.220912  3454.229085   9126.560635  6797.300332   \n",
      "1   76642.582817 -27293.396781  2985.442695   8167.173063  5903.582443   \n",
      "2   94376.076157 -33539.742107  3713.920410   9700.610671  7354.133876   \n",
      "3   59051.415613 -20990.564879  2341.064856   6535.915068  4411.060605   \n",
      "4  105659.315090 -37555.996401  4145.780902  10763.542244  8350.751015   \n",
      "\n",
      "            PC6          PC7           PC8         PC9          PC10  ...  \\\n",
      "0  16901.525492  2651.200159 -10122.247249  520.986183 -21098.418538  ...   \n",
      "1  14806.532365  2339.237854  -8635.524239  350.733722 -18325.651586  ...   \n",
      "2  18109.964458  2836.707950 -10841.613631  585.551458 -22606.176706  ...   \n",
      "3  11465.010401  1735.428711  -6895.582676  179.314255 -14322.792874  ...   \n",
      "4  20257.415686  3154.721473 -12033.651843  715.097937 -25258.670634  ...   \n",
      "\n",
      "           PC12          PC13         PC14          PC15         PC16  \\\n",
      "0 -12390.954523 -11926.719510  7445.483962 -24696.301773 -6058.237578   \n",
      "1 -10825.522203 -10178.737888  6332.561490 -21491.807578 -5329.391264   \n",
      "2 -13279.367951 -12853.449464  7931.141399 -26509.010369 -6491.970511   \n",
      "3  -8287.080688  -7591.830992  4993.222792 -16611.871623 -4110.691718   \n",
      "4 -14834.707235 -14518.870174  8904.690346 -29486.598342 -7326.300701   \n",
      "\n",
      "          PC17          PC18          PC19          PC20           PC21  \n",
      "0  3054.996820 -30365.439616 -61583.047237  62171.183258  155339.931136  \n",
      "1  2771.780453 -26422.588736 -53641.477291  54111.208673  135225.939017  \n",
      "2  3289.107359 -32564.001476 -66015.828580  66642.574518  166518.686259  \n",
      "3  2101.603647 -20350.170044 -41359.713487  41750.653408  104322.892593  \n",
      "4  3742.031105 -36429.128373 -73821.635248  74528.479305  186240.128829  \n",
      "\n",
      "[5 rows x 21 columns]\n"
     ]
    },
    {
     "name": "stderr",
     "output_type": "stream",
     "text": [
      "c:\\Python312\\Lib\\site-packages\\sklearn\\utils\\validation.py:2732: UserWarning: X has feature names, but PCA was fitted without feature names\n",
      "  warnings.warn(\n"
     ]
    }
   ],
   "source": [
    "X_reducido = modelo_pca.transform(df_houses_pca_temp)\n",
    "\n",
    "print(\"Matriz reducida (primeras 5 filas):\")\n",
    "print(pd.DataFrame(X_reducido, columns=[f'PC{i+1}' for i in range(modelo_pca.n_components_)]).head())"
   ]
  },
  {
   "cell_type": "markdown",
   "metadata": {},
   "source": [
    "<small>\n",
    "\n",
    "**Análisis de resultados obtenidos mediante el análisis de PCA**\n",
    "\n",
    "1. Porcentaje de varianza acumulada:\n",
    "\n",
    "   En base a los resultados obtenidos, se observa lo siguiente:\n",
    "\n",
    "   - El primer componente (PC1) explica aproximadamente el **20.7%** de la varianza total.\n",
    "   - Con los primeros **5 componentes**, ya se alcanza aproximadamente el **46.4%** de la varianza explicada.\n",
    "   - Si se consideran los **10 primeros componentes**, se logra explicar el **70%** de la varianza total.\n",
    "   - Al llegar al **componente 15**, se alcanza el **89%** de varianza acumulada, lo cual es coherente con la **regla del 80%-90%**, recomendada para retener suficiente información del dataset original.\n",
    "\n",
    "   Esta tendencia muestra que el dataset es bastante complejo y disperso, lo cual requiere un número relativamente alto de componentes para representar adecuadamente la información contenida en las variables originales.\n",
    "\n",
    "2. Cojo de Jambú\n",
    "\n",
    "   Al analizar la gráfica de **varianza explicada acumulada**, es posible identificar un claro \"codo\" entre los componentes **15 y 17**. Esto sugiere que, más allá de ese punto, agregar componentes adicionales **aporta una cantidad marginal** de varianza explicada, es decir, la ganancia es muy baja comparada con los primeros componentes.\n",
    "\n",
    "3. Conclusión\n",
    "\n",
    "   Tomando en cuenta:\n",
    "\n",
    "   - La **regla de 80%-90%** de varianza explicada.\n",
    "   - El punto de inflexión observado en el **Codo de Jambú**.\n",
    "   - La **complejidad y cantidad de variables** en el dataset original.\n",
    "\n",
    "   Se decide conservar **15 componentes principales**, que explican el **89% de la varianza total**, permitiendo una reducción significativa de dimensiones sin perder información crítica.\n",
    "\n",
    "**Explicación por componente**\n",
    "\n",
    "A continuación, se presenta una tabla resumen con la interpretación de cada uno de los **primeros 15 componentes** seleccionados, destacando las variables con mayores cargas (peso) en cada uno y la interpretación general que se les asigna:\n",
    "\n",
    "| Componente | Variables más relevantes                       | Interpretación                                                                                                      |\n",
    "| ---------- | ---------------------------------------------- | ------------------------------------------------------------------------------------------------------------------- |\n",
    "| **PC1**    | OverallQual, FullBath, TotRmsAbvGrd, SalePrice | Representa la **calidad general, tamaño y valor económico** de las casas. Es el componente más importante.          |\n",
    "| **PC2**    | BedroomAbvGr, KitchenAbvGr, TotRmsAbvGrd       | Relacionado con la **distribución interna** (cantidad de habitaciones y cocinas).                                   |\n",
    "| **PC3**    | OverallCond, ScreenPorch, PoolArea             | Explica la **condición general y la presencia de amenidades exteriores** (porches y piscina).                       |\n",
    "| **PC4**    | BsmtFullBath, YrSold, MoSold                   | Relacionado con **baños completos en sótano** y **temporalidad** (año y mes de venta).                              |\n",
    "| **PC5**    | EnclosedPorch, PoolArea, MiscVal               | Captura información sobre **espacios exteriores cerrados y elementos especiales** como piscinas y otras amenidades. |\n",
    "| **PC6**    | OverallCond, Fireplaces, 3SsnPorch             | Condición general combinada con **elementos de confort** como chimeneas y porches de 3 estaciones.                  |\n",
    "| **PC7**    | KitchenAbvGr, BsmtFullBath, BsmtHalfBath       | Configuración interna enfocada en **baños y cocinas**.                                                              |\n",
    "| **PC8**    | WoodDeckSF, EnclosedPorch, 3SsnPorch           | Describe principalmente los **espacios exteriores** (decks, porches).                                               |\n",
    "| **PC9**    | MiscVal, MoSold, YrSold                        | Relacionado con **valores atípicos o extras** (MiscVal) y la **temporalidad de venta**.                             |\n",
    "| **PC10**   | HalfBath, MiscVal, EnclosedPorch               | Explica **comodidades secundarias y extras**.                                                                       |\n",
    "| **PC11**   | OpenPorchSF, EnclosedPorch, MiscVal            | Otros detalles de **porches abiertos/cerrados y elementos menores**.                                                |\n",
    "| **PC12**   | BsmtFullBath, FullBath, MoSold                 | Componente centrado en **baños y momento de venta**.                                                                |\n",
    "| **PC13**   | OverallCond, BsmtHalfBath, MiscVal             | Condición y características **poco frecuentes** del inmueble.                                                       |\n",
    "| **PC14**   | MasVnrArea, Fireplaces, GarageCars             | Variables asociadas a **construcción exterior, confort y capacidad de garaje**.                                     |\n",
    "| **PC15**   | PoolArea, KitchenAbvGr, SalePrice              | Mezcla entre **amenidades exteriores, distribución interna y precio final**.                                        |\n",
    "\n",
    "**Nota final**\n",
    "\n",
    "Este análisis muestra cómo **PCA** permite reducir 21 variables originales a **15 componentes**, reteniendo casi el **90%** de la información relevante. Estos componentes resumen patrones latentes sobre la **calidad de las casas, su tamaño, su distribución interna, sus amenidades, y la temporalidad de la venta**, lo cual facilita el análisis posterior, modelos predictivos o segmentación.\n",
    "\n",
    "</small>\n"
   ]
  },
  {
   "cell_type": "markdown",
   "metadata": {},
   "source": [
    "### CSV con resultados de PCA\n"
   ]
  },
  {
   "cell_type": "code",
   "execution_count": null,
   "metadata": {},
   "outputs": [
    {
     "name": "stdout",
     "output_type": "stream",
     "text": [
      "✅ Archivo 'pca_resultados.csv' creado con éxito.\n"
     ]
    }
   ],
   "source": [
    "pca_reducido_df = pd.DataFrame(\n",
    "    X_reducido[:, :15],  \n",
    "    columns=[f'PC{i+1}' for i in range(15)]\n",
    ")\n",
    "\n",
    "pca_reducido_df['Id'] = df_houses['Id'].values  \n",
    "pca_reducido_df['SalePrice'] = df_houses['SalePrice'].values  \n",
    "\n",
    "pca_reducido_df.to_csv('pca_resultados.csv', index=False)\n",
    "\n",
    "print(\"Archivo 'pca_resultados.csv' creado con éxito.\")"
   ]
  }
 ],
 "metadata": {
  "kernelspec": {
   "display_name": "Python 3",
   "language": "python",
   "name": "python3"
  },
  "language_info": {
   "codemirror_mode": {
    "name": "ipython",
    "version": 3
   },
   "file_extension": ".py",
   "mimetype": "text/x-python",
   "name": "python",
   "nbconvert_exporter": "python",
   "pygments_lexer": "ipython3",
   "version": "3.12.1"
  }
 },
 "nbformat": 4,
 "nbformat_minor": 2
}
