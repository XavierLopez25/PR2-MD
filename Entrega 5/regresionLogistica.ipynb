{
 "cells": [
  {
   "cell_type": "markdown",
   "id": "3e10f9d2",
   "metadata": {},
   "source": [
    "# Regresión Logística"
   ]
  },
  {
   "cell_type": "code",
   "execution_count": 123,
   "id": "0cdd4ef8",
   "metadata": {},
   "outputs": [],
   "source": [
    "import pandas as pd\n",
    "from sklearn.model_selection import train_test_split, cross_val_score\n",
    "from sklearn.linear_model import LogisticRegression\n",
    "from sklearn.metrics import accuracy_score, precision_score, recall_score, f1_score, confusion_matrix\n"
   ]
  },
  {
   "cell_type": "markdown",
   "id": "b6feb6f3",
   "metadata": {},
   "source": [
    "#### Leer los datos"
   ]
  },
  {
   "cell_type": "code",
   "execution_count": 124,
   "id": "4e08f01d",
   "metadata": {},
   "outputs": [],
   "source": [
    "# Leer los datos\n",
    "df = pd.read_csv(\"train.csv\")\n",
    "\n",
    "# Selección de variables\n",
    "variables_numericas = [\n",
    "    'OverallQual', 'GrLivArea', 'GarageCars', 'TotalBsmtSF',\n",
    "    '1stFlrSF', 'FullBath', 'YearBuilt', 'KitchenAbvGr',\n",
    "    'TotRmsAbvGrd', 'Fireplaces', 'SalePrice'\n",
    "]\n",
    "df = df[variables_numericas]"
   ]
  },
  {
   "cell_type": "markdown",
   "id": "cd43c57b",
   "metadata": {},
   "source": [
    "#### Clasificación de Precios"
   ]
  },
  {
   "cell_type": "code",
   "execution_count": 125,
   "id": "cd414544",
   "metadata": {},
   "outputs": [],
   "source": [
    "# Clasificación de precios\n",
    "p40 = df['SalePrice'].quantile(0.40)\n",
    "p90 = df['SalePrice'].quantile(0.90)\n",
    "\n",
    "def clasificar_precio(precio):\n",
    "    if precio <= p40:\n",
    "        return \"Económica\"\n",
    "    elif precio <= p90:\n",
    "        return \"Intermedia\"\n",
    "    else:\n",
    "        return \"Cara\""
   ]
  },
  {
   "cell_type": "markdown",
   "id": "63ffce3c",
   "metadata": {},
   "source": [
    "#### Variables Dicotómicas"
   ]
  },
  {
   "cell_type": "code",
   "execution_count": 126,
   "id": "fdf89d34",
   "metadata": {},
   "outputs": [],
   "source": [
    "df['CategoriaPrecio'] = df['SalePrice'].apply(clasificar_precio)\n",
    "df['Es_Cara'] = (df['CategoriaPrecio'] == 'Cara').astype(int)"
   ]
  },
  {
   "cell_type": "markdown",
   "id": "df24a86f",
   "metadata": {},
   "source": [
    "#### Varables predictoras y respuesta"
   ]
  },
  {
   "cell_type": "code",
   "execution_count": 127,
   "id": "21a1bff2",
   "metadata": {},
   "outputs": [],
   "source": [
    "# Definir variables predictoras y respuesta\n",
    "X = df.drop(columns=['SalePrice', 'CategoriaPrecio', 'Es_Cara'])\n",
    "y = df['Es_Cara']"
   ]
  },
  {
   "cell_type": "markdown",
   "id": "b4370924",
   "metadata": {},
   "source": [
    "#### Separar en modelos de entrenamiento y prueba"
   ]
  },
  {
   "cell_type": "code",
   "execution_count": 128,
   "id": "df345547",
   "metadata": {},
   "outputs": [],
   "source": [
    "# Separar en conjuntos de entrenamiento y prueba\n",
    "X_train, X_test, y_train, y_test = train_test_split(\n",
    "    X, y, test_size=0.3, train_size=0.7, random_state=42, stratify=y\n",
    ")"
   ]
  },
  {
   "cell_type": "markdown",
   "id": "104a6720",
   "metadata": {},
   "source": [
    "#### Modelo de Regresión Logística"
   ]
  },
  {
   "cell_type": "code",
   "execution_count": 129,
   "id": "c05ed2b4",
   "metadata": {},
   "outputs": [],
   "source": [
    "# Modelo de regresión logística\n",
    "modelo = LogisticRegression(solver='liblinear')\n",
    "modelo.fit(X_train, y_train)\n",
    "\n",
    "# Predicciones y Probabilidades de predicción\n",
    "y_proba = modelo.predict_proba(X_test)[:, 1]\n",
    "\n",
    "# Nuevo umbral de decisión\n",
    "umbral = 0.35\n",
    "y_pred = (y_proba >= umbral).astype(int)"
   ]
  },
  {
   "cell_type": "markdown",
   "id": "b19ccd1c",
   "metadata": {},
   "source": [
    "#### Métricas y Resultados"
   ]
  },
  {
   "cell_type": "code",
   "execution_count": 130,
   "id": "814d77bd",
   "metadata": {},
   "outputs": [
    {
     "name": "stdout",
     "output_type": "stream",
     "text": [
      "Accuracy: 0.95\n",
      "Precisión: 0.75\n",
      "Recall: 0.82\n",
      "F1 Score: 0.78\n",
      "Precisión promedio (validación cruzada): 0.95\n",
      "Matriz de confusión:\n",
      "[[382  12]\n",
      " [  8  36]]\n"
     ]
    }
   ],
   "source": [
    "# Métricas\n",
    "accuracy = accuracy_score(y_test, y_pred)\n",
    "precision = precision_score(y_test, y_pred)\n",
    "recall = recall_score(y_test, y_pred)\n",
    "f1 = f1_score(y_test, y_pred)\n",
    "cv = cross_val_score(modelo, X, y, cv=5, scoring='accuracy')\n",
    "\n",
    "# Resultados\n",
    "print(f\"Accuracy: {accuracy:.2f}\")\n",
    "print(f\"Precisión: {precision:.2f}\")\n",
    "print(f\"Recall: {recall:.2f}\")\n",
    "print(f\"F1 Score: {f1:.2f}\")\n",
    "print(f\"Precisión promedio (validación cruzada): {cv.mean():.2f}\")\n",
    "print(\"Matriz de confusión:\")\n",
    "print(confusion_matrix(y_test, y_pred))"
   ]
  }
 ],
 "metadata": {
  "kernelspec": {
   "display_name": "venv",
   "language": "python",
   "name": "python3"
  },
  "language_info": {
   "codemirror_mode": {
    "name": "ipython",
    "version": 3
   },
   "file_extension": ".py",
   "mimetype": "text/x-python",
   "name": "python",
   "nbconvert_exporter": "python",
   "pygments_lexer": "ipython3",
   "version": "3.10.2"
  }
 },
 "nbformat": 4,
 "nbformat_minor": 5
}
