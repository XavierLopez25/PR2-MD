{
 "cells": [
  {
   "cell_type": "markdown",
   "metadata": {},
   "source": [
    "# Naive Bayes (Bayes Ingenuo) - Con tunneo de hiperparámetros\n"
   ]
  },
  {
   "cell_type": "code",
   "execution_count": 1,
   "metadata": {},
   "outputs": [],
   "source": [
    "from sklearn.ensemble import RandomForestClassifier\n",
    "from sklearn.naive_bayes import GaussianNB\n",
    "from sklearn.tree import DecisionTreeClassifier\n",
    "from sklearn.metrics import accuracy_score, precision_score, recall_score, f1_score\n",
    "from sklearn.model_selection import train_test_split, GridSearchCV\n",
    "import numpy as np\n",
    "import pandas as pd"
   ]
  },
  {
   "cell_type": "markdown",
   "metadata": {},
   "source": [
    "#### Carga de datos y preparación de variables\n"
   ]
  },
  {
   "cell_type": "code",
   "execution_count": 2,
   "metadata": {},
   "outputs": [],
   "source": [
    "df = pd.read_csv(\"train.csv\")\n",
    "\n",
    "variables_numericas = [\n",
    "'OverallQual', 'GrLivArea', 'GarageCars', 'TotalBsmtSF',\n",
    "    '1stFlrSF', 'FullBath', 'YearBuilt', 'KitchenAbvGr',\n",
    "    'TotRmsAbvGrd', 'Fireplaces', 'SalePrice'\n",
    "]\n",
    "\n",
    "df = df[variables_numericas]"
   ]
  },
  {
   "cell_type": "markdown",
   "metadata": {},
   "source": [
    "#### Definir X (variables predictoras) y \"y\" (variable respuesta)\n"
   ]
  },
  {
   "cell_type": "code",
   "execution_count": 3,
   "metadata": {},
   "outputs": [],
   "source": [
    "p40 = df['SalePrice'].quantile(0.40)\n",
    "p90 = df['SalePrice'].quantile(0.90)\n",
    "\n",
    "def clasificar_precio(precio: float) -> str:\n",
    "    if precio <= p40:\n",
    "        return \"Económica\"\n",
    "    elif precio <= p90:\n",
    "        return \"Intermedia\"\n",
    "    else:\n",
    "        return \"Cara\"\n",
    "\n",
    "df['CategoriaPrecio'] = df['SalePrice'].apply(clasificar_precio)\n",
    "\n",
    "X = df.drop(['SalePrice', 'CategoriaPrecio'], axis=1)\n",
    "y = df['CategoriaPrecio']"
   ]
  },
  {
   "cell_type": "markdown",
   "metadata": {},
   "source": [
    "#### Dividir datos en entrenamienta y prueba\n"
   ]
  },
  {
   "cell_type": "code",
   "execution_count": 4,
   "metadata": {},
   "outputs": [],
   "source": [
    "X_train, X_test, y_train, y_test = train_test_split(X, y, test_size=0.3, random_state=42)"
   ]
  },
  {
   "cell_type": "markdown",
   "metadata": {},
   "source": [
    "#### Definir hiperparámetros para el modelo\n"
   ]
  },
  {
   "cell_type": "code",
   "execution_count": 7,
   "metadata": {},
   "outputs": [],
   "source": [
    "param_grid_naive_bayes =  [{\n",
    "    \"var_smoothing\": np.logspace(0,-9, num=100)\n",
    "}]\n",
    "\n",
    "\n",
    "bayes_classifier = GridSearchCV(GaussianNB(), param_grid=param_grid_naive_bayes, n_jobs=2, cv=5, scoring='accuracy')\n",
    "bayes_classifier.fit(X_train, y_train)\n",
    "best_bayes_classifier = bayes_classifier.best_estimator_\n",
    "\n",
    "model = best_bayes_classifier"
   ]
  },
  {
   "cell_type": "markdown",
   "metadata": {},
   "source": [
    "#### Evaluación de Modelo en Conjunto de Prueba\n"
   ]
  },
  {
   "cell_type": "code",
   "execution_count": 8,
   "metadata": {},
   "outputs": [
    {
     "name": "stdout",
     "output_type": "stream",
     "text": [
      " - Bayes Regressor (Tunneo de Hiperparámetros):\n",
      "   - Accuracy: 0.84\n",
      "   - Precision: 0.84\n",
      "   - Recall: 0.84\n",
      "   - F1-score: 0.84\n",
      "----------------------------------------\n"
     ]
    }
   ],
   "source": [
    "y_pred = model.predict(X_test)\n",
    "accuracy = accuracy_score(y_test, y_pred)\n",
    "precision = precision_score(y_test, y_pred, average='micro')\n",
    "recall = recall_score(y_test, y_pred, average='micro')\n",
    "f1 = f1_score(y_test, y_pred, average='micro')\n",
    "\n",
    "print(f\" - Bayes Regressor (Tunneo de Hiperparámetros):\")\n",
    "print(f\"   - Accuracy: {accuracy:.2f}\")\n",
    "print(f\"   - Precision: {precision:.2f}\")\n",
    "print(f\"   - Recall: {recall:.2f}\")\n",
    "print(f\"   - F1-score: {f1:.2f}\")\n",
    "print(\"-\" * 40)"
   ]
  },
  {
   "cell_type": "markdown",
   "metadata": {},
   "source": [
    "<small>\n",
    "\n",
    "### **Conclusión: Modelo de Clasificación (Naïve Bayes)**\n",
    "\n",
    "El ajuste de hiperparámetros en el **modelo de clasificación** también resultó en **una mejora en todas las métricas de evaluación**:\n",
    "\n",
    "- **Precisión (Accuracy)** aumentó de **0.82 a 0.84**, lo que significa que el modelo clasifica correctamente un mayor porcentaje de viviendas.\n",
    "- **Recall, Precisión y F1-score** mejoraron de **0.82 a 0.84**, lo que sugiere que el modelo es más **equilibrado** en términos de su capacidad para identificar correctamente cada categoría de precios y evitar falsos positivos o negativos.\n",
    "\n",
    "**Este incremento en el rendimiento sugiere que el modelo ajustado tiene mejor capacidad para diferenciar correctamente entre casas económicas, intermedias y caras.** La optimización ayudó a reducir los errores de clasificación y a hacer el modelo más estable en sus predicciones.\n",
    "\n",
    "### **Conclusión Global**\n",
    "\n",
    "El proceso de **ajuste de hiperparámetros** logró **mejorar ambos modelos**.\n",
    "\n",
    "- En **regresión**, el modelo ahora comete **errores menos graves y predice valores más cercanos a los reales**.\n",
    "- En **clasificación**, el modelo ahora **identifica mejor las clases y reduce la cantidad de errores de categorización**.\n",
    "\n",
    "</small>\n"
   ]
  }
 ],
 "metadata": {
  "kernelspec": {
   "display_name": "Python 3",
   "language": "python",
   "name": "python3"
  },
  "language_info": {
   "codemirror_mode": {
    "name": "ipython",
    "version": 3
   },
   "file_extension": ".py",
   "mimetype": "text/x-python",
   "name": "python",
   "nbconvert_exporter": "python",
   "pygments_lexer": "ipython3",
   "version": "3.10.2"
  }
 },
 "nbformat": 4,
 "nbformat_minor": 2
}
