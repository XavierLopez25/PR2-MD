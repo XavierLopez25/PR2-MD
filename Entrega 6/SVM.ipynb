{
 "cells": [
  {
   "cell_type": "markdown",
   "id": "ab8c7119",
   "metadata": {},
   "source": [
    "# Máquinas Vectoriales de Soporte (SVM)"
   ]
  },
  {
   "cell_type": "code",
   "execution_count": 9,
   "id": "7f110835",
   "metadata": {},
   "outputs": [],
   "source": [
    "import pandas as pd\n",
    "import seaborn as sns\n",
    "import numpy as np\n",
    "from sklearn.preprocessing import LabelEncoder\n",
    "from sklearn.preprocessing import StandardScaler"
   ]
  },
  {
   "cell_type": "markdown",
   "id": "b82df60f",
   "metadata": {},
   "source": [
    "#### Lectura de datos"
   ]
  },
  {
   "cell_type": "code",
   "execution_count": 2,
   "id": "c1abf7c2",
   "metadata": {},
   "outputs": [],
   "source": [
    "# Leer los datos\n",
    "df = pd.read_csv(\"train.csv\")\n",
    "\n",
    "# Selección de variables\n",
    "variables_numericas = [\n",
    "    'OverallQual', 'GrLivArea', 'GarageCars', 'TotalBsmtSF',\n",
    "    '1stFlrSF', 'FullBath', 'YearBuilt', 'KitchenAbvGr',\n",
    "    'TotRmsAbvGrd', 'Fireplaces', 'SalePrice'\n",
    "]\n",
    "df = df[variables_numericas]"
   ]
  },
  {
   "cell_type": "markdown",
   "id": "0389dbe6",
   "metadata": {},
   "source": [
    "#### Exploración de datos"
   ]
  },
  {
   "cell_type": "code",
   "execution_count": null,
   "id": "b5f7237d",
   "metadata": {},
   "outputs": [
    {
     "data": {
      "text/plain": [
       "(1460, 11)"
      ]
     },
     "execution_count": 4,
     "metadata": {},
     "output_type": "execute_result"
    }
   ],
   "source": [
    "df.shape"
   ]
  },
  {
   "cell_type": "code",
   "execution_count": null,
   "id": "3ea76569",
   "metadata": {},
   "outputs": [
    {
     "data": {
      "text/html": [
       "<div>\n",
       "<style scoped>\n",
       "    .dataframe tbody tr th:only-of-type {\n",
       "        vertical-align: middle;\n",
       "    }\n",
       "\n",
       "    .dataframe tbody tr th {\n",
       "        vertical-align: top;\n",
       "    }\n",
       "\n",
       "    .dataframe thead th {\n",
       "        text-align: right;\n",
       "    }\n",
       "</style>\n",
       "<table border=\"1\" class=\"dataframe\">\n",
       "  <thead>\n",
       "    <tr style=\"text-align: right;\">\n",
       "      <th></th>\n",
       "      <th>OverallQual</th>\n",
       "      <th>GrLivArea</th>\n",
       "      <th>GarageCars</th>\n",
       "      <th>TotalBsmtSF</th>\n",
       "      <th>1stFlrSF</th>\n",
       "      <th>FullBath</th>\n",
       "      <th>YearBuilt</th>\n",
       "      <th>KitchenAbvGr</th>\n",
       "      <th>TotRmsAbvGrd</th>\n",
       "      <th>Fireplaces</th>\n",
       "      <th>SalePrice</th>\n",
       "    </tr>\n",
       "  </thead>\n",
       "  <tbody>\n",
       "    <tr>\n",
       "      <th>0</th>\n",
       "      <td>7</td>\n",
       "      <td>1710</td>\n",
       "      <td>2</td>\n",
       "      <td>856</td>\n",
       "      <td>856</td>\n",
       "      <td>2</td>\n",
       "      <td>2003</td>\n",
       "      <td>1</td>\n",
       "      <td>8</td>\n",
       "      <td>0</td>\n",
       "      <td>208500</td>\n",
       "    </tr>\n",
       "    <tr>\n",
       "      <th>1</th>\n",
       "      <td>6</td>\n",
       "      <td>1262</td>\n",
       "      <td>2</td>\n",
       "      <td>1262</td>\n",
       "      <td>1262</td>\n",
       "      <td>2</td>\n",
       "      <td>1976</td>\n",
       "      <td>1</td>\n",
       "      <td>6</td>\n",
       "      <td>1</td>\n",
       "      <td>181500</td>\n",
       "    </tr>\n",
       "    <tr>\n",
       "      <th>2</th>\n",
       "      <td>7</td>\n",
       "      <td>1786</td>\n",
       "      <td>2</td>\n",
       "      <td>920</td>\n",
       "      <td>920</td>\n",
       "      <td>2</td>\n",
       "      <td>2001</td>\n",
       "      <td>1</td>\n",
       "      <td>6</td>\n",
       "      <td>1</td>\n",
       "      <td>223500</td>\n",
       "    </tr>\n",
       "    <tr>\n",
       "      <th>3</th>\n",
       "      <td>7</td>\n",
       "      <td>1717</td>\n",
       "      <td>3</td>\n",
       "      <td>756</td>\n",
       "      <td>961</td>\n",
       "      <td>1</td>\n",
       "      <td>1915</td>\n",
       "      <td>1</td>\n",
       "      <td>7</td>\n",
       "      <td>1</td>\n",
       "      <td>140000</td>\n",
       "    </tr>\n",
       "    <tr>\n",
       "      <th>4</th>\n",
       "      <td>8</td>\n",
       "      <td>2198</td>\n",
       "      <td>3</td>\n",
       "      <td>1145</td>\n",
       "      <td>1145</td>\n",
       "      <td>2</td>\n",
       "      <td>2000</td>\n",
       "      <td>1</td>\n",
       "      <td>9</td>\n",
       "      <td>1</td>\n",
       "      <td>250000</td>\n",
       "    </tr>\n",
       "  </tbody>\n",
       "</table>\n",
       "</div>"
      ],
      "text/plain": [
       "   OverallQual  GrLivArea  GarageCars  TotalBsmtSF  1stFlrSF  FullBath  \\\n",
       "0            7       1710           2          856       856         2   \n",
       "1            6       1262           2         1262      1262         2   \n",
       "2            7       1786           2          920       920         2   \n",
       "3            7       1717           3          756       961         1   \n",
       "4            8       2198           3         1145      1145         2   \n",
       "\n",
       "   YearBuilt  KitchenAbvGr  TotRmsAbvGrd  Fireplaces  SalePrice  \n",
       "0       2003             1             8           0     208500  \n",
       "1       1976             1             6           1     181500  \n",
       "2       2001             1             6           1     223500  \n",
       "3       1915             1             7           1     140000  \n",
       "4       2000             1             9           1     250000  "
      ]
     },
     "execution_count": 5,
     "metadata": {},
     "output_type": "execute_result"
    }
   ],
   "source": [
    "df.head()"
   ]
  },
  {
   "cell_type": "code",
   "execution_count": null,
   "id": "7d194424",
   "metadata": {},
   "outputs": [
    {
     "data": {
      "text/plain": [
       "OverallQual     0\n",
       "GrLivArea       0\n",
       "GarageCars      0\n",
       "TotalBsmtSF     0\n",
       "1stFlrSF        0\n",
       "FullBath        0\n",
       "YearBuilt       0\n",
       "KitchenAbvGr    0\n",
       "TotRmsAbvGrd    0\n",
       "Fireplaces      0\n",
       "SalePrice       0\n",
       "dtype: int64"
      ]
     },
     "execution_count": 6,
     "metadata": {},
     "output_type": "execute_result"
    }
   ],
   "source": [
    "df.isnull().sum()"
   ]
  },
  {
   "cell_type": "code",
   "execution_count": null,
   "id": "16a8cc8e",
   "metadata": {},
   "outputs": [
    {
     "data": {
      "text/html": [
       "<div>\n",
       "<style scoped>\n",
       "    .dataframe tbody tr th:only-of-type {\n",
       "        vertical-align: middle;\n",
       "    }\n",
       "\n",
       "    .dataframe tbody tr th {\n",
       "        vertical-align: top;\n",
       "    }\n",
       "\n",
       "    .dataframe thead th {\n",
       "        text-align: right;\n",
       "    }\n",
       "</style>\n",
       "<table border=\"1\" class=\"dataframe\">\n",
       "  <thead>\n",
       "    <tr style=\"text-align: right;\">\n",
       "      <th></th>\n",
       "      <th>OverallQual</th>\n",
       "      <th>GrLivArea</th>\n",
       "      <th>GarageCars</th>\n",
       "      <th>TotalBsmtSF</th>\n",
       "      <th>1stFlrSF</th>\n",
       "      <th>FullBath</th>\n",
       "      <th>YearBuilt</th>\n",
       "      <th>KitchenAbvGr</th>\n",
       "      <th>TotRmsAbvGrd</th>\n",
       "      <th>Fireplaces</th>\n",
       "      <th>SalePrice</th>\n",
       "    </tr>\n",
       "  </thead>\n",
       "  <tbody>\n",
       "    <tr>\n",
       "      <th>count</th>\n",
       "      <td>1460.000000</td>\n",
       "      <td>1460.000000</td>\n",
       "      <td>1460.000000</td>\n",
       "      <td>1460.000000</td>\n",
       "      <td>1460.000000</td>\n",
       "      <td>1460.000000</td>\n",
       "      <td>1460.000000</td>\n",
       "      <td>1460.000000</td>\n",
       "      <td>1460.000000</td>\n",
       "      <td>1460.000000</td>\n",
       "      <td>1460.000000</td>\n",
       "    </tr>\n",
       "    <tr>\n",
       "      <th>mean</th>\n",
       "      <td>6.099315</td>\n",
       "      <td>1515.463699</td>\n",
       "      <td>1.767123</td>\n",
       "      <td>1057.429452</td>\n",
       "      <td>1162.626712</td>\n",
       "      <td>1.565068</td>\n",
       "      <td>1971.267808</td>\n",
       "      <td>1.046575</td>\n",
       "      <td>6.517808</td>\n",
       "      <td>0.613014</td>\n",
       "      <td>180921.195890</td>\n",
       "    </tr>\n",
       "    <tr>\n",
       "      <th>std</th>\n",
       "      <td>1.382997</td>\n",
       "      <td>525.480383</td>\n",
       "      <td>0.747315</td>\n",
       "      <td>438.705324</td>\n",
       "      <td>386.587738</td>\n",
       "      <td>0.550916</td>\n",
       "      <td>30.202904</td>\n",
       "      <td>0.220338</td>\n",
       "      <td>1.625393</td>\n",
       "      <td>0.644666</td>\n",
       "      <td>79442.502883</td>\n",
       "    </tr>\n",
       "    <tr>\n",
       "      <th>min</th>\n",
       "      <td>1.000000</td>\n",
       "      <td>334.000000</td>\n",
       "      <td>0.000000</td>\n",
       "      <td>0.000000</td>\n",
       "      <td>334.000000</td>\n",
       "      <td>0.000000</td>\n",
       "      <td>1872.000000</td>\n",
       "      <td>0.000000</td>\n",
       "      <td>2.000000</td>\n",
       "      <td>0.000000</td>\n",
       "      <td>34900.000000</td>\n",
       "    </tr>\n",
       "    <tr>\n",
       "      <th>25%</th>\n",
       "      <td>5.000000</td>\n",
       "      <td>1129.500000</td>\n",
       "      <td>1.000000</td>\n",
       "      <td>795.750000</td>\n",
       "      <td>882.000000</td>\n",
       "      <td>1.000000</td>\n",
       "      <td>1954.000000</td>\n",
       "      <td>1.000000</td>\n",
       "      <td>5.000000</td>\n",
       "      <td>0.000000</td>\n",
       "      <td>129975.000000</td>\n",
       "    </tr>\n",
       "    <tr>\n",
       "      <th>50%</th>\n",
       "      <td>6.000000</td>\n",
       "      <td>1464.000000</td>\n",
       "      <td>2.000000</td>\n",
       "      <td>991.500000</td>\n",
       "      <td>1087.000000</td>\n",
       "      <td>2.000000</td>\n",
       "      <td>1973.000000</td>\n",
       "      <td>1.000000</td>\n",
       "      <td>6.000000</td>\n",
       "      <td>1.000000</td>\n",
       "      <td>163000.000000</td>\n",
       "    </tr>\n",
       "    <tr>\n",
       "      <th>75%</th>\n",
       "      <td>7.000000</td>\n",
       "      <td>1776.750000</td>\n",
       "      <td>2.000000</td>\n",
       "      <td>1298.250000</td>\n",
       "      <td>1391.250000</td>\n",
       "      <td>2.000000</td>\n",
       "      <td>2000.000000</td>\n",
       "      <td>1.000000</td>\n",
       "      <td>7.000000</td>\n",
       "      <td>1.000000</td>\n",
       "      <td>214000.000000</td>\n",
       "    </tr>\n",
       "    <tr>\n",
       "      <th>max</th>\n",
       "      <td>10.000000</td>\n",
       "      <td>5642.000000</td>\n",
       "      <td>4.000000</td>\n",
       "      <td>6110.000000</td>\n",
       "      <td>4692.000000</td>\n",
       "      <td>3.000000</td>\n",
       "      <td>2010.000000</td>\n",
       "      <td>3.000000</td>\n",
       "      <td>14.000000</td>\n",
       "      <td>3.000000</td>\n",
       "      <td>755000.000000</td>\n",
       "    </tr>\n",
       "  </tbody>\n",
       "</table>\n",
       "</div>"
      ],
      "text/plain": [
       "       OverallQual    GrLivArea   GarageCars  TotalBsmtSF     1stFlrSF  \\\n",
       "count  1460.000000  1460.000000  1460.000000  1460.000000  1460.000000   \n",
       "mean      6.099315  1515.463699     1.767123  1057.429452  1162.626712   \n",
       "std       1.382997   525.480383     0.747315   438.705324   386.587738   \n",
       "min       1.000000   334.000000     0.000000     0.000000   334.000000   \n",
       "25%       5.000000  1129.500000     1.000000   795.750000   882.000000   \n",
       "50%       6.000000  1464.000000     2.000000   991.500000  1087.000000   \n",
       "75%       7.000000  1776.750000     2.000000  1298.250000  1391.250000   \n",
       "max      10.000000  5642.000000     4.000000  6110.000000  4692.000000   \n",
       "\n",
       "          FullBath    YearBuilt  KitchenAbvGr  TotRmsAbvGrd   Fireplaces  \\\n",
       "count  1460.000000  1460.000000   1460.000000   1460.000000  1460.000000   \n",
       "mean      1.565068  1971.267808      1.046575      6.517808     0.613014   \n",
       "std       0.550916    30.202904      0.220338      1.625393     0.644666   \n",
       "min       0.000000  1872.000000      0.000000      2.000000     0.000000   \n",
       "25%       1.000000  1954.000000      1.000000      5.000000     0.000000   \n",
       "50%       2.000000  1973.000000      1.000000      6.000000     1.000000   \n",
       "75%       2.000000  2000.000000      1.000000      7.000000     1.000000   \n",
       "max       3.000000  2010.000000      3.000000     14.000000     3.000000   \n",
       "\n",
       "           SalePrice  \n",
       "count    1460.000000  \n",
       "mean   180921.195890  \n",
       "std     79442.502883  \n",
       "min     34900.000000  \n",
       "25%    129975.000000  \n",
       "50%    163000.000000  \n",
       "75%    214000.000000  \n",
       "max    755000.000000  "
      ]
     },
     "execution_count": 7,
     "metadata": {},
     "output_type": "execute_result"
    }
   ],
   "source": [
    "df.describe()"
   ]
  },
  {
   "cell_type": "markdown",
   "id": "bd1abf58",
   "metadata": {},
   "source": [
    "### Transformaciones realizadas"
   ]
  },
  {
   "cell_type": "markdown",
   "id": "20ffa0ba",
   "metadata": {},
   "source": [
    "#### Clasificación de precios (Variable categórica)"
   ]
  },
  {
   "cell_type": "code",
   "execution_count": 10,
   "id": "ee29024e",
   "metadata": {},
   "outputs": [],
   "source": [
    "# Clasificación de precios\n",
    "p40 = df['SalePrice'].quantile(0.40)\n",
    "p90 = df['SalePrice'].quantile(0.90)\n",
    "\n",
    "def clasificar_precio(precio):\n",
    "    if precio <= p40:\n",
    "        return \"Económica\"\n",
    "    elif precio <= p90:\n",
    "        return \"Intermedia\"\n",
    "    else:\n",
    "        return \"Cara\""
   ]
  },
  {
   "cell_type": "code",
   "execution_count": 12,
   "id": "8f100240",
   "metadata": {},
   "outputs": [],
   "source": [
    "df['CategoriaPrecio'] = df['SalePrice'].apply(clasificar_precio)"
   ]
  },
  {
   "cell_type": "markdown",
   "id": "e504a18a",
   "metadata": {},
   "source": [
    "#### Codificar variable categórica como números"
   ]
  },
  {
   "cell_type": "code",
   "execution_count": 13,
   "id": "e684c58f",
   "metadata": {},
   "outputs": [],
   "source": [
    "le = LabelEncoder()\n",
    "df['Clase'] = le.fit_transform(df['CategoriaPrecio'])  # Económica → 0, Intermedia → 1, Cara → 2"
   ]
  },
  {
   "cell_type": "markdown",
   "id": "a24be1dc",
   "metadata": {},
   "source": [
    "#### Estandarización de variables"
   ]
  },
  {
   "cell_type": "code",
   "execution_count": 14,
   "id": "86b42ed8",
   "metadata": {},
   "outputs": [],
   "source": [
    "X = df.drop(columns=['SalePrice', 'CategoriaPrecio', 'Clase'])  # Variables predictoras\n",
    "scaler = StandardScaler()\n",
    "X_scaled = scaler.fit_transform(X)\n",
    "\n",
    "y = df['Clase']  # Variable objetivo codificada\n"
   ]
  },
  {
   "cell_type": "markdown",
   "id": "526f5006",
   "metadata": {},
   "source": [
    "<small>\n",
    "\n",
    "#### **Diagnóstico del dataset**\n",
    "\n",
    "| Aspecto                                     | Observación                                                                 |\n",
    "|--------------------------------------------|------------------------------------------------------------------------------|\n",
    "| Variables categóricas                      | No hay, todas las columnas son numéricas                                    |\n",
    "| Valores faltantes                          | Ninguno, todos los campos tienen 0 valores nulos                            |\n",
    "| Distribución de `SalePrice`                | Es una variable **continua**, no apta directamente para clasificación        |\n",
    "| Escalas distintas entre variables          | Hay muchas escalas diferentes: `GrLivArea`, `1stFlrSF` y `YearBuilt` varían mucho |\n",
    "| Variables enteras con bajo rango (binarias)| Variables como `KitchenAbvGr` y `Fireplaces` tienen pocos valores posibles  |\n",
    "\n",
    "\n",
    "#### **Transformaciones realizadas para entrenar un modelo SVM**\n",
    "\n",
    "Para aplicar una Máquina de Vectores de Soporte (SVM) al problema de predicción de precios de vivienda, se realizaron las siguientes transformaciones:\n",
    "\n",
    "1. La variable SalePrice fue transformada en una variable categórica con tres clases: Económica, Intermedia y Cara, usando los percentiles 40 y 90 como umbrales.\n",
    "\n",
    "2. Luego, esta variable categórica se codificó como variable numérica usando LabelEncoder, asignando un valor entero a cada clase.\n",
    "\n",
    "3. Todas las variables predictoras numéricas fueron estandarizadas usando StandardScaler, ya que SVM es muy sensible a la escala de los datos. Esto asegura que cada variable tenga media 0 y desviación estándar 1.\n",
    "\n",
    "El dataset resultante está listo para entrenar modelos SVM con kernels lineales o no lineales según el caso.\n",
    "\n",
    "</small>"
   ]
  }
 ],
 "metadata": {
  "kernelspec": {
   "display_name": "Python 3",
   "language": "python",
   "name": "python3"
  },
  "language_info": {
   "codemirror_mode": {
    "name": "ipython",
    "version": 3
   },
   "file_extension": ".py",
   "mimetype": "text/x-python",
   "name": "python",
   "nbconvert_exporter": "python",
   "pygments_lexer": "ipython3",
   "version": "3.10.2"
  }
 },
 "nbformat": 4,
 "nbformat_minor": 5
}
