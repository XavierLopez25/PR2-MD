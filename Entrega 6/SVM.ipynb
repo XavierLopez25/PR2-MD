{
 "cells": [
  {
   "cell_type": "markdown",
   "id": "ab8c7119",
   "metadata": {},
   "source": [
    "# Máquinas Vectoriales de Soporte (SVM)"
   ]
  },
  {
   "cell_type": "code",
   "execution_count": 1,
   "id": "7f110835",
   "metadata": {},
   "outputs": [],
   "source": [
    "import pandas as pd\n",
    "import seaborn as sns\n",
    "import numpy as np\n",
    "from sklearn.preprocessing import LabelEncoder\n",
    "from sklearn.preprocessing import StandardScaler\n",
    "from sklearn.model_selection import train_test_split\n",
    "from sklearn import svm\n",
    "from sklearn.svm import SVC\n",
    "from sklearn.pipeline import make_pipeline\n",
    "from sklearn.metrics import classification_report, confusion_matrix, ConfusionMatrixDisplay\n",
    "from sklearn.model_selection import GridSearchCV, StratifiedKFold, cross_validate\n",
    "import matplotlib.pyplot as plt"
   ]
  },
  {
   "cell_type": "markdown",
   "id": "b82df60f",
   "metadata": {},
   "source": [
    "#### Lectura de datos"
   ]
  },
  {
   "cell_type": "code",
   "execution_count": 2,
   "id": "c1abf7c2",
   "metadata": {},
   "outputs": [],
   "source": [
    "# Leer los datos\n",
    "df = pd.read_csv(\"train.csv\")\n",
    "\n",
    "# Selección de variables\n",
    "variables_numericas = [\n",
    "    'OverallQual', 'GrLivArea', 'GarageCars', 'TotalBsmtSF',\n",
    "    '1stFlrSF', 'FullBath', 'YearBuilt', 'KitchenAbvGr',\n",
    "    'TotRmsAbvGrd', 'Fireplaces', 'SalePrice'\n",
    "]\n",
    "df = df[variables_numericas]"
   ]
  },
  {
   "cell_type": "markdown",
   "id": "0389dbe6",
   "metadata": {},
   "source": [
    "#### Exploración de datos"
   ]
  },
  {
   "cell_type": "code",
   "execution_count": 3,
   "id": "b5f7237d",
   "metadata": {},
   "outputs": [
    {
     "data": {
      "text/plain": [
       "(1460, 11)"
      ]
     },
     "execution_count": 3,
     "metadata": {},
     "output_type": "execute_result"
    }
   ],
   "source": [
    "df.shape"
   ]
  },
  {
   "cell_type": "code",
   "execution_count": 4,
   "id": "3ea76569",
   "metadata": {},
   "outputs": [
    {
     "data": {
      "application/vnd.microsoft.datawrangler.viewer.v0+json": {
       "columns": [
        {
         "name": "index",
         "rawType": "int64",
         "type": "integer"
        },
        {
         "name": "OverallQual",
         "rawType": "int64",
         "type": "integer"
        },
        {
         "name": "GrLivArea",
         "rawType": "int64",
         "type": "integer"
        },
        {
         "name": "GarageCars",
         "rawType": "int64",
         "type": "integer"
        },
        {
         "name": "TotalBsmtSF",
         "rawType": "int64",
         "type": "integer"
        },
        {
         "name": "1stFlrSF",
         "rawType": "int64",
         "type": "integer"
        },
        {
         "name": "FullBath",
         "rawType": "int64",
         "type": "integer"
        },
        {
         "name": "YearBuilt",
         "rawType": "int64",
         "type": "integer"
        },
        {
         "name": "KitchenAbvGr",
         "rawType": "int64",
         "type": "integer"
        },
        {
         "name": "TotRmsAbvGrd",
         "rawType": "int64",
         "type": "integer"
        },
        {
         "name": "Fireplaces",
         "rawType": "int64",
         "type": "integer"
        },
        {
         "name": "SalePrice",
         "rawType": "int64",
         "type": "integer"
        }
       ],
       "conversionMethod": "pd.DataFrame",
       "ref": "3d68f93b-cc16-491b-9f18-a6d68caa15a3",
       "rows": [
        [
         "0",
         "7",
         "1710",
         "2",
         "856",
         "856",
         "2",
         "2003",
         "1",
         "8",
         "0",
         "208500"
        ],
        [
         "1",
         "6",
         "1262",
         "2",
         "1262",
         "1262",
         "2",
         "1976",
         "1",
         "6",
         "1",
         "181500"
        ],
        [
         "2",
         "7",
         "1786",
         "2",
         "920",
         "920",
         "2",
         "2001",
         "1",
         "6",
         "1",
         "223500"
        ],
        [
         "3",
         "7",
         "1717",
         "3",
         "756",
         "961",
         "1",
         "1915",
         "1",
         "7",
         "1",
         "140000"
        ],
        [
         "4",
         "8",
         "2198",
         "3",
         "1145",
         "1145",
         "2",
         "2000",
         "1",
         "9",
         "1",
         "250000"
        ]
       ],
       "shape": {
        "columns": 11,
        "rows": 5
       }
      },
      "text/html": [
       "<div>\n",
       "<style scoped>\n",
       "    .dataframe tbody tr th:only-of-type {\n",
       "        vertical-align: middle;\n",
       "    }\n",
       "\n",
       "    .dataframe tbody tr th {\n",
       "        vertical-align: top;\n",
       "    }\n",
       "\n",
       "    .dataframe thead th {\n",
       "        text-align: right;\n",
       "    }\n",
       "</style>\n",
       "<table border=\"1\" class=\"dataframe\">\n",
       "  <thead>\n",
       "    <tr style=\"text-align: right;\">\n",
       "      <th></th>\n",
       "      <th>OverallQual</th>\n",
       "      <th>GrLivArea</th>\n",
       "      <th>GarageCars</th>\n",
       "      <th>TotalBsmtSF</th>\n",
       "      <th>1stFlrSF</th>\n",
       "      <th>FullBath</th>\n",
       "      <th>YearBuilt</th>\n",
       "      <th>KitchenAbvGr</th>\n",
       "      <th>TotRmsAbvGrd</th>\n",
       "      <th>Fireplaces</th>\n",
       "      <th>SalePrice</th>\n",
       "    </tr>\n",
       "  </thead>\n",
       "  <tbody>\n",
       "    <tr>\n",
       "      <th>0</th>\n",
       "      <td>7</td>\n",
       "      <td>1710</td>\n",
       "      <td>2</td>\n",
       "      <td>856</td>\n",
       "      <td>856</td>\n",
       "      <td>2</td>\n",
       "      <td>2003</td>\n",
       "      <td>1</td>\n",
       "      <td>8</td>\n",
       "      <td>0</td>\n",
       "      <td>208500</td>\n",
       "    </tr>\n",
       "    <tr>\n",
       "      <th>1</th>\n",
       "      <td>6</td>\n",
       "      <td>1262</td>\n",
       "      <td>2</td>\n",
       "      <td>1262</td>\n",
       "      <td>1262</td>\n",
       "      <td>2</td>\n",
       "      <td>1976</td>\n",
       "      <td>1</td>\n",
       "      <td>6</td>\n",
       "      <td>1</td>\n",
       "      <td>181500</td>\n",
       "    </tr>\n",
       "    <tr>\n",
       "      <th>2</th>\n",
       "      <td>7</td>\n",
       "      <td>1786</td>\n",
       "      <td>2</td>\n",
       "      <td>920</td>\n",
       "      <td>920</td>\n",
       "      <td>2</td>\n",
       "      <td>2001</td>\n",
       "      <td>1</td>\n",
       "      <td>6</td>\n",
       "      <td>1</td>\n",
       "      <td>223500</td>\n",
       "    </tr>\n",
       "    <tr>\n",
       "      <th>3</th>\n",
       "      <td>7</td>\n",
       "      <td>1717</td>\n",
       "      <td>3</td>\n",
       "      <td>756</td>\n",
       "      <td>961</td>\n",
       "      <td>1</td>\n",
       "      <td>1915</td>\n",
       "      <td>1</td>\n",
       "      <td>7</td>\n",
       "      <td>1</td>\n",
       "      <td>140000</td>\n",
       "    </tr>\n",
       "    <tr>\n",
       "      <th>4</th>\n",
       "      <td>8</td>\n",
       "      <td>2198</td>\n",
       "      <td>3</td>\n",
       "      <td>1145</td>\n",
       "      <td>1145</td>\n",
       "      <td>2</td>\n",
       "      <td>2000</td>\n",
       "      <td>1</td>\n",
       "      <td>9</td>\n",
       "      <td>1</td>\n",
       "      <td>250000</td>\n",
       "    </tr>\n",
       "  </tbody>\n",
       "</table>\n",
       "</div>"
      ],
      "text/plain": [
       "   OverallQual  GrLivArea  GarageCars  TotalBsmtSF  1stFlrSF  FullBath  \\\n",
       "0            7       1710           2          856       856         2   \n",
       "1            6       1262           2         1262      1262         2   \n",
       "2            7       1786           2          920       920         2   \n",
       "3            7       1717           3          756       961         1   \n",
       "4            8       2198           3         1145      1145         2   \n",
       "\n",
       "   YearBuilt  KitchenAbvGr  TotRmsAbvGrd  Fireplaces  SalePrice  \n",
       "0       2003             1             8           0     208500  \n",
       "1       1976             1             6           1     181500  \n",
       "2       2001             1             6           1     223500  \n",
       "3       1915             1             7           1     140000  \n",
       "4       2000             1             9           1     250000  "
      ]
     },
     "execution_count": 4,
     "metadata": {},
     "output_type": "execute_result"
    }
   ],
   "source": [
    "df.head()"
   ]
  },
  {
   "cell_type": "code",
   "execution_count": 5,
   "id": "7d194424",
   "metadata": {},
   "outputs": [
    {
     "data": {
      "text/plain": [
       "OverallQual     0\n",
       "GrLivArea       0\n",
       "GarageCars      0\n",
       "TotalBsmtSF     0\n",
       "1stFlrSF        0\n",
       "FullBath        0\n",
       "YearBuilt       0\n",
       "KitchenAbvGr    0\n",
       "TotRmsAbvGrd    0\n",
       "Fireplaces      0\n",
       "SalePrice       0\n",
       "dtype: int64"
      ]
     },
     "execution_count": 5,
     "metadata": {},
     "output_type": "execute_result"
    }
   ],
   "source": [
    "df.isnull().sum()"
   ]
  },
  {
   "cell_type": "code",
   "execution_count": 6,
   "id": "16a8cc8e",
   "metadata": {},
   "outputs": [
    {
     "data": {
      "application/vnd.microsoft.datawrangler.viewer.v0+json": {
       "columns": [
        {
         "name": "index",
         "rawType": "object",
         "type": "string"
        },
        {
         "name": "OverallQual",
         "rawType": "float64",
         "type": "float"
        },
        {
         "name": "GrLivArea",
         "rawType": "float64",
         "type": "float"
        },
        {
         "name": "GarageCars",
         "rawType": "float64",
         "type": "float"
        },
        {
         "name": "TotalBsmtSF",
         "rawType": "float64",
         "type": "float"
        },
        {
         "name": "1stFlrSF",
         "rawType": "float64",
         "type": "float"
        },
        {
         "name": "FullBath",
         "rawType": "float64",
         "type": "float"
        },
        {
         "name": "YearBuilt",
         "rawType": "float64",
         "type": "float"
        },
        {
         "name": "KitchenAbvGr",
         "rawType": "float64",
         "type": "float"
        },
        {
         "name": "TotRmsAbvGrd",
         "rawType": "float64",
         "type": "float"
        },
        {
         "name": "Fireplaces",
         "rawType": "float64",
         "type": "float"
        },
        {
         "name": "SalePrice",
         "rawType": "float64",
         "type": "float"
        }
       ],
       "conversionMethod": "pd.DataFrame",
       "ref": "1f2f426c-bb23-4b50-aa0b-b863ee2187c1",
       "rows": [
        [
         "count",
         "1460.0",
         "1460.0",
         "1460.0",
         "1460.0",
         "1460.0",
         "1460.0",
         "1460.0",
         "1460.0",
         "1460.0",
         "1460.0",
         "1460.0"
        ],
        [
         "mean",
         "6.0993150684931505",
         "1515.463698630137",
         "1.7671232876712328",
         "1057.4294520547944",
         "1162.626712328767",
         "1.5650684931506849",
         "1971.267808219178",
         "1.0465753424657533",
         "6.517808219178082",
         "0.613013698630137",
         "180921.19589041095"
        ],
        [
         "std",
         "1.3829965467415934",
         "525.4803834232025",
         "0.7473150101111095",
         "438.7053244594708",
         "386.5877380410744",
         "0.5509158012954317",
         "30.202904042525258",
         "0.22033819838403068",
         "1.6253932905840505",
         "0.6446663863122295",
         "79442.50288288662"
        ],
        [
         "min",
         "1.0",
         "334.0",
         "0.0",
         "0.0",
         "334.0",
         "0.0",
         "1872.0",
         "0.0",
         "2.0",
         "0.0",
         "34900.0"
        ],
        [
         "25%",
         "5.0",
         "1129.5",
         "1.0",
         "795.75",
         "882.0",
         "1.0",
         "1954.0",
         "1.0",
         "5.0",
         "0.0",
         "129975.0"
        ],
        [
         "50%",
         "6.0",
         "1464.0",
         "2.0",
         "991.5",
         "1087.0",
         "2.0",
         "1973.0",
         "1.0",
         "6.0",
         "1.0",
         "163000.0"
        ],
        [
         "75%",
         "7.0",
         "1776.75",
         "2.0",
         "1298.25",
         "1391.25",
         "2.0",
         "2000.0",
         "1.0",
         "7.0",
         "1.0",
         "214000.0"
        ],
        [
         "max",
         "10.0",
         "5642.0",
         "4.0",
         "6110.0",
         "4692.0",
         "3.0",
         "2010.0",
         "3.0",
         "14.0",
         "3.0",
         "755000.0"
        ]
       ],
       "shape": {
        "columns": 11,
        "rows": 8
       }
      },
      "text/html": [
       "<div>\n",
       "<style scoped>\n",
       "    .dataframe tbody tr th:only-of-type {\n",
       "        vertical-align: middle;\n",
       "    }\n",
       "\n",
       "    .dataframe tbody tr th {\n",
       "        vertical-align: top;\n",
       "    }\n",
       "\n",
       "    .dataframe thead th {\n",
       "        text-align: right;\n",
       "    }\n",
       "</style>\n",
       "<table border=\"1\" class=\"dataframe\">\n",
       "  <thead>\n",
       "    <tr style=\"text-align: right;\">\n",
       "      <th></th>\n",
       "      <th>OverallQual</th>\n",
       "      <th>GrLivArea</th>\n",
       "      <th>GarageCars</th>\n",
       "      <th>TotalBsmtSF</th>\n",
       "      <th>1stFlrSF</th>\n",
       "      <th>FullBath</th>\n",
       "      <th>YearBuilt</th>\n",
       "      <th>KitchenAbvGr</th>\n",
       "      <th>TotRmsAbvGrd</th>\n",
       "      <th>Fireplaces</th>\n",
       "      <th>SalePrice</th>\n",
       "    </tr>\n",
       "  </thead>\n",
       "  <tbody>\n",
       "    <tr>\n",
       "      <th>count</th>\n",
       "      <td>1460.000000</td>\n",
       "      <td>1460.000000</td>\n",
       "      <td>1460.000000</td>\n",
       "      <td>1460.000000</td>\n",
       "      <td>1460.000000</td>\n",
       "      <td>1460.000000</td>\n",
       "      <td>1460.000000</td>\n",
       "      <td>1460.000000</td>\n",
       "      <td>1460.000000</td>\n",
       "      <td>1460.000000</td>\n",
       "      <td>1460.000000</td>\n",
       "    </tr>\n",
       "    <tr>\n",
       "      <th>mean</th>\n",
       "      <td>6.099315</td>\n",
       "      <td>1515.463699</td>\n",
       "      <td>1.767123</td>\n",
       "      <td>1057.429452</td>\n",
       "      <td>1162.626712</td>\n",
       "      <td>1.565068</td>\n",
       "      <td>1971.267808</td>\n",
       "      <td>1.046575</td>\n",
       "      <td>6.517808</td>\n",
       "      <td>0.613014</td>\n",
       "      <td>180921.195890</td>\n",
       "    </tr>\n",
       "    <tr>\n",
       "      <th>std</th>\n",
       "      <td>1.382997</td>\n",
       "      <td>525.480383</td>\n",
       "      <td>0.747315</td>\n",
       "      <td>438.705324</td>\n",
       "      <td>386.587738</td>\n",
       "      <td>0.550916</td>\n",
       "      <td>30.202904</td>\n",
       "      <td>0.220338</td>\n",
       "      <td>1.625393</td>\n",
       "      <td>0.644666</td>\n",
       "      <td>79442.502883</td>\n",
       "    </tr>\n",
       "    <tr>\n",
       "      <th>min</th>\n",
       "      <td>1.000000</td>\n",
       "      <td>334.000000</td>\n",
       "      <td>0.000000</td>\n",
       "      <td>0.000000</td>\n",
       "      <td>334.000000</td>\n",
       "      <td>0.000000</td>\n",
       "      <td>1872.000000</td>\n",
       "      <td>0.000000</td>\n",
       "      <td>2.000000</td>\n",
       "      <td>0.000000</td>\n",
       "      <td>34900.000000</td>\n",
       "    </tr>\n",
       "    <tr>\n",
       "      <th>25%</th>\n",
       "      <td>5.000000</td>\n",
       "      <td>1129.500000</td>\n",
       "      <td>1.000000</td>\n",
       "      <td>795.750000</td>\n",
       "      <td>882.000000</td>\n",
       "      <td>1.000000</td>\n",
       "      <td>1954.000000</td>\n",
       "      <td>1.000000</td>\n",
       "      <td>5.000000</td>\n",
       "      <td>0.000000</td>\n",
       "      <td>129975.000000</td>\n",
       "    </tr>\n",
       "    <tr>\n",
       "      <th>50%</th>\n",
       "      <td>6.000000</td>\n",
       "      <td>1464.000000</td>\n",
       "      <td>2.000000</td>\n",
       "      <td>991.500000</td>\n",
       "      <td>1087.000000</td>\n",
       "      <td>2.000000</td>\n",
       "      <td>1973.000000</td>\n",
       "      <td>1.000000</td>\n",
       "      <td>6.000000</td>\n",
       "      <td>1.000000</td>\n",
       "      <td>163000.000000</td>\n",
       "    </tr>\n",
       "    <tr>\n",
       "      <th>75%</th>\n",
       "      <td>7.000000</td>\n",
       "      <td>1776.750000</td>\n",
       "      <td>2.000000</td>\n",
       "      <td>1298.250000</td>\n",
       "      <td>1391.250000</td>\n",
       "      <td>2.000000</td>\n",
       "      <td>2000.000000</td>\n",
       "      <td>1.000000</td>\n",
       "      <td>7.000000</td>\n",
       "      <td>1.000000</td>\n",
       "      <td>214000.000000</td>\n",
       "    </tr>\n",
       "    <tr>\n",
       "      <th>max</th>\n",
       "      <td>10.000000</td>\n",
       "      <td>5642.000000</td>\n",
       "      <td>4.000000</td>\n",
       "      <td>6110.000000</td>\n",
       "      <td>4692.000000</td>\n",
       "      <td>3.000000</td>\n",
       "      <td>2010.000000</td>\n",
       "      <td>3.000000</td>\n",
       "      <td>14.000000</td>\n",
       "      <td>3.000000</td>\n",
       "      <td>755000.000000</td>\n",
       "    </tr>\n",
       "  </tbody>\n",
       "</table>\n",
       "</div>"
      ],
      "text/plain": [
       "       OverallQual    GrLivArea   GarageCars  TotalBsmtSF     1stFlrSF  \\\n",
       "count  1460.000000  1460.000000  1460.000000  1460.000000  1460.000000   \n",
       "mean      6.099315  1515.463699     1.767123  1057.429452  1162.626712   \n",
       "std       1.382997   525.480383     0.747315   438.705324   386.587738   \n",
       "min       1.000000   334.000000     0.000000     0.000000   334.000000   \n",
       "25%       5.000000  1129.500000     1.000000   795.750000   882.000000   \n",
       "50%       6.000000  1464.000000     2.000000   991.500000  1087.000000   \n",
       "75%       7.000000  1776.750000     2.000000  1298.250000  1391.250000   \n",
       "max      10.000000  5642.000000     4.000000  6110.000000  4692.000000   \n",
       "\n",
       "          FullBath    YearBuilt  KitchenAbvGr  TotRmsAbvGrd   Fireplaces  \\\n",
       "count  1460.000000  1460.000000   1460.000000   1460.000000  1460.000000   \n",
       "mean      1.565068  1971.267808      1.046575      6.517808     0.613014   \n",
       "std       0.550916    30.202904      0.220338      1.625393     0.644666   \n",
       "min       0.000000  1872.000000      0.000000      2.000000     0.000000   \n",
       "25%       1.000000  1954.000000      1.000000      5.000000     0.000000   \n",
       "50%       2.000000  1973.000000      1.000000      6.000000     1.000000   \n",
       "75%       2.000000  2000.000000      1.000000      7.000000     1.000000   \n",
       "max       3.000000  2010.000000      3.000000     14.000000     3.000000   \n",
       "\n",
       "           SalePrice  \n",
       "count    1460.000000  \n",
       "mean   180921.195890  \n",
       "std     79442.502883  \n",
       "min     34900.000000  \n",
       "25%    129975.000000  \n",
       "50%    163000.000000  \n",
       "75%    214000.000000  \n",
       "max    755000.000000  "
      ]
     },
     "execution_count": 6,
     "metadata": {},
     "output_type": "execute_result"
    }
   ],
   "source": [
    "df.describe()"
   ]
  },
  {
   "cell_type": "markdown",
   "id": "bd1abf58",
   "metadata": {},
   "source": [
    "### Transformaciones realizadas"
   ]
  },
  {
   "cell_type": "markdown",
   "id": "20ffa0ba",
   "metadata": {},
   "source": [
    "#### Clasificación de precios (Variable categórica)"
   ]
  },
  {
   "cell_type": "code",
   "execution_count": 7,
   "id": "ee29024e",
   "metadata": {},
   "outputs": [],
   "source": [
    "# Clasificación de precios\n",
    "p40 = df['SalePrice'].quantile(0.40)\n",
    "p90 = df['SalePrice'].quantile(0.90)\n",
    "\n",
    "def clasificar_precio(precio):\n",
    "    if precio <= p40:\n",
    "        return \"Económica\"\n",
    "    elif precio <= p90:\n",
    "        return \"Intermedia\"\n",
    "    else:\n",
    "        return \"Cara\""
   ]
  },
  {
   "cell_type": "code",
   "execution_count": 8,
   "id": "8f100240",
   "metadata": {},
   "outputs": [],
   "source": [
    "df['CategoriaPrecio'] = df['SalePrice'].apply(clasificar_precio)"
   ]
  },
  {
   "cell_type": "markdown",
   "id": "e504a18a",
   "metadata": {},
   "source": [
    "#### Codificar variable categórica como números"
   ]
  },
  {
   "cell_type": "code",
   "execution_count": 9,
   "id": "e684c58f",
   "metadata": {},
   "outputs": [],
   "source": [
    "le = LabelEncoder()\n",
    "df['Clase'] = le.fit_transform(df['CategoriaPrecio'])  # Económica → 0, Intermedia → 1, Cara → 2"
   ]
  },
  {
   "cell_type": "markdown",
   "id": "a24be1dc",
   "metadata": {},
   "source": [
    "#### Estandarización de variables"
   ]
  },
  {
   "cell_type": "code",
   "execution_count": 10,
   "id": "86b42ed8",
   "metadata": {},
   "outputs": [],
   "source": [
    "X = df.drop(columns=['SalePrice', 'CategoriaPrecio', 'Clase'])  # Variables predictoras\n",
    "scaler = StandardScaler()\n",
    "X_scaled = scaler.fit_transform(X)\n",
    "\n",
    "y = df['Clase']  # Variable objetivo codificada\n"
   ]
  },
  {
   "cell_type": "markdown",
   "id": "526f5006",
   "metadata": {},
   "source": [
    "<small>\n",
    "\n",
    "#### **Diagnóstico del dataset**\n",
    "\n",
    "| Aspecto                                     | Observación                                                                 |\n",
    "|--------------------------------------------|------------------------------------------------------------------------------|\n",
    "| Variables categóricas                      | No hay, todas las columnas son numéricas                                    |\n",
    "| Valores faltantes                          | Ninguno, todos los campos tienen 0 valores nulos                            |\n",
    "| Distribución de `SalePrice`                | Es una variable **continua**, no apta directamente para clasificación        |\n",
    "| Escalas distintas entre variables          | Hay muchas escalas diferentes: `GrLivArea`, `1stFlrSF` y `YearBuilt` varían mucho |\n",
    "| Variables enteras con bajo rango (binarias)| Variables como `KitchenAbvGr` y `Fireplaces` tienen pocos valores posibles  |\n",
    "\n",
    "\n",
    "#### **Transformaciones realizadas para entrenar un modelo SVM**\n",
    "\n",
    "Para aplicar una Máquina de Vectores de Soporte (SVM) al problema de predicción de precios de vivienda, se realizaron las siguientes transformaciones:\n",
    "\n",
    "1. La variable SalePrice fue transformada en una variable categórica con tres clases: Económica, Intermedia y Cara, usando los percentiles 40 y 90 como umbrales.\n",
    "\n",
    "2. Luego, esta variable categórica se codificó como variable numérica usando LabelEncoder, asignando un valor entero a cada clase.\n",
    "\n",
    "3. Todas las variables predictoras numéricas fueron estandarizadas usando StandardScaler, ya que SVM es muy sensible a la escala de los datos. Esto asegura que cada variable tenga media 0 y desviación estándar 1.\n",
    "\n",
    "El dataset resultante está listo para entrenar modelos SVM con kernels lineales o no lineales según el caso.\n",
    "\n",
    "</small>"
   ]
  },
  {
   "cell_type": "markdown",
   "id": "1f519559",
   "metadata": {},
   "source": [
    "#### Separación Train y Test"
   ]
  },
  {
   "cell_type": "code",
   "execution_count": 11,
   "id": "32ab33bb",
   "metadata": {},
   "outputs": [],
   "source": [
    "X_train, X_test, y_train, y_test = train_test_split(\n",
    "    X_scaled, y, test_size=0.3, random_state=42, stratify=y\n",
    ")"
   ]
  },
  {
   "cell_type": "markdown",
   "id": "45d46caf",
   "metadata": {},
   "source": [
    "#### Configuración de modelos"
   ]
  },
  {
   "cell_type": "code",
   "execution_count": 13,
   "id": "8ef380b5",
   "metadata": {},
   "outputs": [],
   "source": [
    "modelos = [\n",
    "    (\"SVM Lineal (C=0.1)\", svm.SVC(kernel='linear', C=0.1)),\n",
    "    (\"SVM Lineal (C=1)\", svm.SVC(kernel='linear', C=1)),\n",
    "    (\"SVM Lineal (C=10)\", svm.SVC(kernel='linear', C=10)),\n",
    "    (\"SVM RBF (C=0.1, gamma=0.01)\", svm.SVC(kernel='rbf', C=0.1, gamma=0.001)),\n",
    "    (\"SVM RBF (C=1, gamma=0.01)\", svm.SVC(kernel='rbf', C=1, gamma=0.01)),\n",
    "    (\"SVM RBF (C=10, gamma=0.1)\", svm.SVC(kernel='rbf', C=10, gamma=0.1)),\n",
    "    (\"SVM Polinomial (C=0.1, degree=3)\", svm.SVC(kernel='poly', C=0.1, degree=3)),\n",
    "    (\"SVM Polinomial (C=1, degree=3)\", svm.SVC(kernel='poly', C=0.1, degree=4)),\n",
    "    (\"SVM Polinomial (C=10, degree=3)\", svm.SVC(kernel='poly', C=0.1, degree=10))\n",
    "]"
   ]
  },
  {
   "cell_type": "markdown",
   "id": "c24293c1",
   "metadata": {},
   "source": [
    "### Entrenar y evaluar modelos (forma manual)"
   ]
  },
  {
   "cell_type": "code",
   "execution_count": 14,
   "id": "a7db2867",
   "metadata": {},
   "outputs": [
    {
     "name": "stdout",
     "output_type": "stream",
     "text": [
      "\n",
      " SVM Lineal (C=0.1)\n",
      "              precision    recall  f1-score   support\n",
      "\n",
      "           0       0.79      0.86      0.82        43\n",
      "           1       0.89      0.89      0.89       177\n",
      "           2       0.88      0.87      0.88       218\n",
      "\n",
      "    accuracy                           0.88       438\n",
      "   macro avg       0.85      0.87      0.86       438\n",
      "weighted avg       0.88      0.88      0.88       438\n",
      "\n",
      "\n",
      " SVM Lineal (C=1)\n",
      "              precision    recall  f1-score   support\n",
      "\n",
      "           0       0.75      0.88      0.81        43\n",
      "           1       0.89      0.89      0.89       177\n",
      "           2       0.89      0.85      0.87       218\n",
      "\n",
      "    accuracy                           0.87       438\n",
      "   macro avg       0.84      0.88      0.86       438\n",
      "weighted avg       0.87      0.87      0.87       438\n",
      "\n",
      "\n",
      " SVM Lineal (C=10)\n",
      "              precision    recall  f1-score   support\n",
      "\n",
      "           0       0.79      0.86      0.82        43\n",
      "           1       0.89      0.89      0.89       177\n",
      "           2       0.88      0.87      0.88       218\n",
      "\n",
      "    accuracy                           0.88       438\n",
      "   macro avg       0.85      0.87      0.86       438\n",
      "weighted avg       0.88      0.88      0.88       438\n",
      "\n",
      "\n",
      " SVM RBF (C=0.1, gamma=0.01)\n",
      "              precision    recall  f1-score   support\n",
      "\n",
      "           0       0.00      0.00      0.00        43\n",
      "           1       1.00      0.03      0.05       177\n",
      "           2       0.50      1.00      0.67       218\n",
      "\n",
      "    accuracy                           0.51       438\n",
      "   macro avg       0.50      0.34      0.24       438\n",
      "weighted avg       0.65      0.51      0.36       438\n",
      "\n",
      "\n",
      " SVM RBF (C=1, gamma=0.01)\n",
      "              precision    recall  f1-score   support\n",
      "\n",
      "           0       0.87      0.79      0.83        43\n",
      "           1       0.87      0.90      0.88       177\n",
      "           2       0.88      0.87      0.87       218\n",
      "\n",
      "    accuracy                           0.87       438\n",
      "   macro avg       0.87      0.85      0.86       438\n",
      "weighted avg       0.87      0.87      0.87       438\n",
      "\n",
      "\n",
      " SVM RBF (C=10, gamma=0.1)\n",
      "              precision    recall  f1-score   support\n",
      "\n",
      "           0       0.82      0.86      0.84        43\n",
      "           1       0.89      0.88      0.88       177\n",
      "           2       0.87      0.88      0.87       218\n",
      "\n",
      "    accuracy                           0.87       438\n",
      "   macro avg       0.86      0.87      0.87       438\n",
      "weighted avg       0.87      0.87      0.87       438\n",
      "\n",
      "\n",
      " SVM Polinomial (C=0.1, degree=3)\n",
      "              precision    recall  f1-score   support\n",
      "\n",
      "           0       0.87      0.60      0.71        43\n",
      "           1       0.94      0.67      0.78       177\n",
      "           2       0.73      0.95      0.83       218\n",
      "\n",
      "    accuracy                           0.80       438\n",
      "   macro avg       0.85      0.74      0.77       438\n",
      "weighted avg       0.83      0.80      0.80       438\n",
      "\n",
      "\n",
      " SVM Polinomial (C=1, degree=3)\n",
      "              precision    recall  f1-score   support\n",
      "\n",
      "           0       0.96      0.60      0.74        43\n",
      "           1       0.74      0.32      0.44       177\n",
      "           2       0.61      0.94      0.74       218\n",
      "\n",
      "    accuracy                           0.66       438\n",
      "   macro avg       0.77      0.62      0.64       438\n",
      "weighted avg       0.70      0.66      0.62       438\n",
      "\n",
      "\n",
      " SVM Polinomial (C=10, degree=3)\n",
      "              precision    recall  f1-score   support\n",
      "\n",
      "           0       0.88      0.65      0.75        43\n",
      "           1       0.82      0.20      0.33       177\n",
      "           2       0.58      0.96      0.72       218\n",
      "\n",
      "    accuracy                           0.63       438\n",
      "   macro avg       0.76      0.61      0.60       438\n",
      "weighted avg       0.71      0.63      0.57       438\n",
      "\n"
     ]
    },
    {
     "name": "stderr",
     "output_type": "stream",
     "text": [
      "c:\\Users\\n8nug\\Documents\\Uni\\2025 - 1er Semestre\\Minería de Datos\\PR2-MD\\venv\\lib\\site-packages\\sklearn\\metrics\\_classification.py:1565: UndefinedMetricWarning: Precision is ill-defined and being set to 0.0 in labels with no predicted samples. Use `zero_division` parameter to control this behavior.\n",
      "  _warn_prf(average, modifier, f\"{metric.capitalize()} is\", len(result))\n",
      "c:\\Users\\n8nug\\Documents\\Uni\\2025 - 1er Semestre\\Minería de Datos\\PR2-MD\\venv\\lib\\site-packages\\sklearn\\metrics\\_classification.py:1565: UndefinedMetricWarning: Precision is ill-defined and being set to 0.0 in labels with no predicted samples. Use `zero_division` parameter to control this behavior.\n",
      "  _warn_prf(average, modifier, f\"{metric.capitalize()} is\", len(result))\n",
      "c:\\Users\\n8nug\\Documents\\Uni\\2025 - 1er Semestre\\Minería de Datos\\PR2-MD\\venv\\lib\\site-packages\\sklearn\\metrics\\_classification.py:1565: UndefinedMetricWarning: Precision is ill-defined and being set to 0.0 in labels with no predicted samples. Use `zero_division` parameter to control this behavior.\n",
      "  _warn_prf(average, modifier, f\"{metric.capitalize()} is\", len(result))\n"
     ]
    }
   ],
   "source": [
    "for nombre, modelo in modelos:\n",
    "    print(f\"\\n {nombre}\")\n",
    "    modelo.fit(X_train, y_train)\n",
    "    y_pred = modelo.predict(X_test)\n",
    "    print(classification_report(y_test, y_pred))"
   ]
  },
  {
   "cell_type": "markdown",
   "id": "1c1c4f8c",
   "metadata": {},
   "source": [
    "<small>\n",
    "\n",
    "Dado que algunos resultados obtenidos con combinaciones manuales de parámetros en el kernel RBF mostraron un bajo desempeño, se decidió aplicar `GridSearchCV` para mejorar la selección de hiperparámetros como `C`, `gamma` y `degree`. Esta técnica permite explorar automáticamente múltiples combinaciones y encontrar aquellas que maximizan el rendimiento del modelo.\n",
    "\n",
    "El uso de validación cruzada garantiza una mejor capacidad de generalización en datos nuevos, evitando el sobreajuste y la elección arbitraria de parámetros. Se aplicó este enfoque en los tres tipos de kernel disponibles en SVM (lineal, RBF y polinomial), generando al menos dos modelos por tipo con distintas configuraciones óptimas.\n",
    "\n",
    "Posteriormente, los modelos obtenidos fueron comparados con base en métricas como precisión (accuracy), sensibilidad (recall) y F1-score, para determinar cuál ofrecía el mejor balance entre rendimiento y eficiencia en la clasificación de viviendas según su precio.\n",
    "\n",
    "</small>\n"
   ]
  },
  {
   "cell_type": "markdown",
   "id": "ee1f58ae",
   "metadata": {},
   "source": [
    "### Tuneado de modelos con GridSearchCV"
   ]
  },
  {
   "cell_type": "code",
   "execution_count": 15,
   "id": "a18ed184",
   "metadata": {},
   "outputs": [],
   "source": [
    "cv = StratifiedKFold(n_splits=5, shuffle=True, random_state=42)"
   ]
  },
  {
   "cell_type": "code",
   "execution_count": 16,
   "id": "fea91e28",
   "metadata": {},
   "outputs": [
    {
     "name": "stdout",
     "output_type": "stream",
     "text": [
      "Mejor combinación LINEAR: {'svc__C': 10}\n",
      "Accuracy en test: 0.8767123287671232\n",
      "              precision    recall  f1-score   support\n",
      "\n",
      "           0       0.79      0.86      0.82        43\n",
      "           1       0.89      0.89      0.89       177\n",
      "           2       0.88      0.87      0.88       218\n",
      "\n",
      "    accuracy                           0.88       438\n",
      "   macro avg       0.85      0.87      0.86       438\n",
      "weighted avg       0.88      0.88      0.88       438\n",
      "\n"
     ]
    }
   ],
   "source": [
    "pipe_linear = make_pipeline(SVC(kernel='linear'))\n",
    "param_grid_linear = {\n",
    "    'svc__C': [0.01, 0.1, 1, 10, 100]\n",
    "}\n",
    "\n",
    "grid_linear = GridSearchCV(pipe_linear, param_grid_linear, cv=cv, scoring='accuracy', n_jobs=-1)\n",
    "grid_linear.fit(X_train, y_train)\n",
    "\n",
    "print(\"Mejor combinación LINEAR:\", grid_linear.best_params_)\n",
    "print(\"Accuracy en test:\", grid_linear.score(X_test, y_test))\n",
    "print(classification_report(y_test, grid_linear.predict(X_test)))"
   ]
  },
  {
   "cell_type": "code",
   "execution_count": 17,
   "id": "a44d9b3b",
   "metadata": {},
   "outputs": [
    {
     "name": "stdout",
     "output_type": "stream",
     "text": [
      "Mejor combinación RBF: {'svc__C': 10, 'svc__gamma': 0.01}\n",
      "Accuracy en test: 0.8698630136986302\n",
      "              precision    recall  f1-score   support\n",
      "\n",
      "           0       0.77      0.86      0.81        43\n",
      "           1       0.87      0.91      0.89       177\n",
      "           2       0.89      0.84      0.87       218\n",
      "\n",
      "    accuracy                           0.87       438\n",
      "   macro avg       0.84      0.87      0.86       438\n",
      "weighted avg       0.87      0.87      0.87       438\n",
      "\n"
     ]
    }
   ],
   "source": [
    "pipe_rbf = make_pipeline(SVC(kernel='rbf'))\n",
    "param_grid_rbf = {\n",
    "    'svc__C': [0.1, 1, 10],\n",
    "    'svc__gamma': [0.001, 0.01, 0.1, 1]\n",
    "}\n",
    "\n",
    "grid_rbf = GridSearchCV(pipe_rbf, param_grid_rbf, cv=cv, scoring='accuracy', n_jobs=-1)\n",
    "grid_rbf.fit(X_train, y_train)\n",
    "\n",
    "print(\"Mejor combinación RBF:\", grid_rbf.best_params_)\n",
    "print(\"Accuracy en test:\", grid_rbf.score(X_test, y_test))\n",
    "print(classification_report(y_test, grid_rbf.predict(X_test)))"
   ]
  },
  {
   "cell_type": "code",
   "execution_count": 18,
   "id": "a9a7daf4",
   "metadata": {},
   "outputs": [
    {
     "name": "stdout",
     "output_type": "stream",
     "text": [
      "Mejor combinación POLY: {'svc__C': 10, 'svc__degree': 3, 'svc__gamma': 'scale'}\n",
      "Accuracy en test: 0.8493150684931506\n",
      "              precision    recall  f1-score   support\n",
      "\n",
      "           0       0.74      0.81      0.78        43\n",
      "           1       0.90      0.83      0.86       177\n",
      "           2       0.84      0.87      0.85       218\n",
      "\n",
      "    accuracy                           0.85       438\n",
      "   macro avg       0.83      0.84      0.83       438\n",
      "weighted avg       0.85      0.85      0.85       438\n",
      "\n"
     ]
    }
   ],
   "source": [
    "pipe_poly = make_pipeline(SVC(kernel='poly'))\n",
    "param_grid_poly = {\n",
    "    'svc__C': [0.1, 1, 10],\n",
    "    'svc__degree': [2, 3, 4],\n",
    "    'svc__gamma': ['scale', 'auto']\n",
    "}\n",
    "\n",
    "grid_poly = GridSearchCV(pipe_poly, param_grid_poly, cv=cv, scoring='accuracy', n_jobs=-1)\n",
    "grid_poly.fit(X_train, y_train)\n",
    "\n",
    "print(\"Mejor combinación POLY:\", grid_poly.best_params_)\n",
    "print(\"Accuracy en test:\", grid_poly.score(X_test, y_test))\n",
    "print(classification_report(y_test, grid_poly.predict(X_test)))\n"
   ]
  },
  {
   "cell_type": "markdown",
   "id": "545d4875",
   "metadata": {},
   "source": [
    "## Matrices de confusión de los mejores modelos SVM"
   ]
  },
  {
   "cell_type": "code",
   "execution_count": 19,
   "id": "2f82985b",
   "metadata": {},
   "outputs": [
    {
     "data": {
      "image/png": "[encoded data removed]",
      "text/plain": [
       "<Figure size 640x480 with 2 Axes>"
      ]
     },
     "metadata": {},
     "output_type": "display_data"
    },
    {
     "data": {
      "image/png": "[encoded data removed]",
      "text/plain": [
       "<Figure size 640x480 with 2 Axes>"
      ]
     },
     "metadata": {},
     "output_type": "display_data"
    },
    {
     "data": {
      "image/png": "[encoded data removed]",
      "text/plain": [
       "<Figure size 640x480 with 2 Axes>"
      ]
     },
     "metadata": {},
     "output_type": "display_data"
    }
   ],
   "source": [
    "# Lista de mejores modelos\n",
    "mejores_modelos = [\n",
    "    (\"SVM Linear\", grid_linear.best_estimator_),\n",
    "    (\"SVM RBF\", grid_rbf.best_estimator_),\n",
    "    (\"SVM Polynomial\", grid_poly.best_estimator_),\n",
    "]\n",
    "\n",
    "# Mostrar matrices de confusión\n",
    "for nombre, modelo in mejores_modelos:\n",
    "    y_pred = modelo.predict(X_test)\n",
    "    cm = confusion_matrix(y_test, y_pred)\n",
    "    disp = ConfusionMatrixDisplay(confusion_matrix=cm, display_labels=le.classes_)\n",
    "    disp.plot(cmap=\"Blues\")\n",
    "    plt.title(f\"Matriz de Confusión - {nombre}\")\n",
    "    plt.show()"
   ]
  },
  {
   "cell_type": "markdown",
   "id": "db959885",
   "metadata": {},
   "source": [
    "<small>\n",
    "\n",
    "### 📊 Análisis de las Matrices de Confusión\n",
    "\n",
    "Al observar las matrices de confusión para los modelos SVM con kernel **Lineal**, **RBF** y **Polinomial**, se pueden identificar patrones clave en los errores de clasificación entre las tres clases: `Económica`, `Intermedia` y `Cara`.\n",
    "\n",
    "#### 🔹 **SVM Lineal**\n",
    "- Clasifica correctamente 37/43 casas `Caras`.\n",
    "- Confunde principalmente `Económicas` como `Intermedias` (19 errores) y viceversa (19 errores).\n",
    "- Presenta **pocos errores extremos** (por ejemplo, `Caras` predichas como `Económicas`).\n",
    "\n",
    "#### 🔹 **SVM RBF**\n",
    "- Clasifica 37/43 `Caras`, igual que el lineal.\n",
    "- Comete **más errores en la clase `Intermedia`**, confundiendo 24 como `Económicas`.\n",
    "- Tiene **mayor sensibilidad** a las clases cercanas, lo cual puede indicar desajuste en los hiperparámetros (`C`, `gamma`).\n",
    "\n",
    "#### 🔹 **SVM Polinomial**\n",
    "- Tiene buen desempeño para `Intermedias` (190/218 bien clasificadas), pero:\n",
    "  - Comete más errores al predecir `Económicas` (29 como `Intermedias`).\n",
    "  - También muestra más dispersión en la clase `Caras`.\n",
    "\n",
    "---\n",
    "\n",
    "### 📈 Análisis de Desempeño y Sobreajuste/Desajuste\n",
    "\n",
    "| Kernel         | Tipo de Error Más Frecuente               | Señales de Sobreajuste | Señales de Subajuste | Comentario general                                         |\n",
    "|----------------|-------------------------------------------|-------------------------|-----------------------|-------------------------------------------------------------|\n",
    "| **Lineal**     | Confusión entre Económicas ↔ Intermedias  | ❌                      | ❌                    | Modelo **más balanceado y generalizable**.                  |\n",
    "| **RBF**        | Intermedias mal clasificadas como Económicas | ❌                      | ⚠️                    | Buen desempeño general, pero puede necesitar más tuning.    |\n",
    "| **Polinomial** | Dispersión en clases extremas             | ⚠️                      | ❌                    | Posible sobreajuste a Intermedias, confunde otras clases.   |\n",
    "\n",
    "---\n",
    "\n",
    "### 🛠️ Recomendaciones para Mejorar\n",
    "\n",
    "- **Si hay sobreajuste** (como en el polinomial):  \n",
    "  - Disminuir `degree`.\n",
    "  - Reducir `C` para regularizar más.\n",
    "  - Usar más datos o simplificar el modelo.\n",
    "\n",
    "- **Si hay desajuste** (como en RBF):  \n",
    "  - Probar con `gamma` más bajo.\n",
    "  - Incluir nuevas variables (feature engineering).\n",
    "  - Revisar si la escala de datos afecta la separación entre clases.\n",
    "\n",
    "---\n",
    "\n",
    "### ✅ Conclusión\n",
    "\n",
    "Entre los tres modelos, el **SVM Lineal** mostró el mejor equilibrio entre precisión y generalización. Clasifica consistentemente las tres clases con errores bajos y balanceados. Aunque los modelos RBF y Polinomial tienen buen rendimiento, sus errores son más específicos y podrían mejorar con un ajuste más fino de los hiperparámetros.\n",
    "\n",
    "---\n",
    "\n",
    "</small>"
   ]
  },
  {
   "cell_type": "markdown",
   "id": "42ed8f62",
   "metadata": {},
   "source": [
    "## Realizando cambios para RBF y Poli"
   ]
  },
  {
   "cell_type": "code",
   "execution_count": null,
   "id": "d1f3162c",
   "metadata": {},
   "outputs": [
    {
     "name": "stdout",
     "output_type": "stream",
     "text": [
      "🔧 Mejor combinación RBF ajustada: {'svc__C': 20, 'svc__gamma': 0.001}\n",
      "              precision    recall  f1-score   support\n",
      "\n",
      "           0       0.80      0.74      0.77        43\n",
      "           1       0.89      0.90      0.89       177\n",
      "           2       0.87      0.87      0.87       218\n",
      "\n",
      "    accuracy                           0.87       438\n",
      "   macro avg       0.85      0.84      0.84       438\n",
      "weighted avg       0.87      0.87      0.87       438\n",
      "\n"
     ]
    }
   ],
   "source": [
    "pipe_rbf_mejorado = make_pipeline(SVC(kernel='rbf'))\n",
    "param_grid_rbf_mejorado = {\n",
    "    'svc__C': [10, 20, 50],\n",
    "    'svc__gamma': [0.0001, 0.001, 'scale']\n",
    "}\n",
    "grid_rbf_mejorado = GridSearchCV(pipe_rbf_mejorado, param_grid_rbf_mejorado, cv=5, scoring='accuracy', n_jobs=-1)\n",
    "grid_rbf_mejorado.fit(X_train, y_train)\n",
    "\n",
    "print(\"🔧 Mejor combinación RBF ajustada:\", grid_rbf_mejorado.best_params_)\n",
    "print(classification_report(y_test, grid_rbf_mejorado.predict(X_test)))"
   ]
  },
  {
   "cell_type": "code",
   "execution_count": null,
   "id": "9784a83b",
   "metadata": {},
   "outputs": [
    {
     "name": "stdout",
     "output_type": "stream",
     "text": [
      "🔧 Mejor combinación Polynomial ajustada: {'svc__C': 1, 'svc__degree': 1, 'svc__gamma': 'scale'}\n",
      "              precision    recall  f1-score   support\n",
      "\n",
      "           0       0.79      0.86      0.82        43\n",
      "           1       0.89      0.89      0.89       177\n",
      "           2       0.88      0.87      0.88       218\n",
      "\n",
      "    accuracy                           0.88       438\n",
      "   macro avg       0.85      0.87      0.86       438\n",
      "weighted avg       0.88      0.88      0.88       438\n",
      "\n"
     ]
    }
   ],
   "source": [
    "pipe_poly_mejorado = make_pipeline(SVC(kernel='poly'))\n",
    "param_grid_poly_mejorado = {\n",
    "    'svc__C': [0.1, 1],\n",
    "    'svc__degree': [1, 2],\n",
    "    'svc__gamma': ['scale']\n",
    "}\n",
    "grid_poly_mejorado = GridSearchCV(pipe_poly_mejorado, param_grid_poly_mejorado, cv=5, scoring='accuracy', n_jobs=-1)\n",
    "grid_poly_mejorado.fit(X_train, y_train)\n",
    "\n",
    "print(\"🔧 Mejor combinación Polynomial ajustada:\", grid_poly_mejorado.best_params_)\n",
    "print(classification_report(y_test, grid_poly_mejorado.predict(X_test)))"
   ]
  },
  {
   "cell_type": "code",
   "execution_count": 32,
   "id": "d0fecbe8",
   "metadata": {},
   "outputs": [
    {
     "data": {
      "image/png": "[encoded data removed]",
      "text/plain": [
       "<Figure size 640x480 with 2 Axes>"
      ]
     },
     "metadata": {},
     "output_type": "display_data"
    },
    {
     "data": {
      "image/png": "[encoded data removed]",
      "text/plain": [
       "<Figure size 640x480 with 2 Axes>"
      ]
     },
     "metadata": {},
     "output_type": "display_data"
    }
   ],
   "source": [
    "# Mostrar matrices de confusión\n",
    "mejores_modelos_mejorados = [\n",
    "    (\"SVM RBF Ajustado\", grid_rbf_mejorado.best_estimator_),\n",
    "    (\"SVM Polynomial Ajustado\", grid_poly_mejorado.best_estimator_)\n",
    "]\n",
    "\n",
    "for nombre, modelo in mejores_modelos_mejorados:\n",
    "    y_pred = modelo.predict(X_test)\n",
    "    cm = confusion_matrix(y_test, y_pred)\n",
    "    disp = ConfusionMatrixDisplay(confusion_matrix=cm, display_labels=le.classes_)\n",
    "    disp.plot(cmap=\"Blues\")\n",
    "    plt.title(f\"Matriz de Confusión - {nombre}\")\n",
    "    plt.show()"
   ]
  },
  {
   "cell_type": "markdown",
   "id": "6377da9b",
   "metadata": {},
   "source": [
    "## Análisis después de Tunning"
   ]
  },
  {
   "cell_type": "markdown",
   "id": "2bacb047",
   "metadata": {},
   "source": [
    "<small>\n",
    "\n",
    "---\n",
    "\n",
    "## 🧪 Comparación de Desempeño: Modelos Originales vs Ajustados\n",
    "\n",
    "### 📌 1. SVM Polinomial (Antes vs Después)\n",
    "\n",
    "| Clase        | Predicciones correctas (Antes) | Predicciones correctas (Después) | Cambios clave                                 |\n",
    "|--------------|-------------------------------|-----------------------------------|----------------------------------------------|\n",
    "| **Cara**         | 11                            | 37                                | ✅ Mejora sustancial en detección             |\n",
    "| **Económica**    | 42                            | 158                               | ✅ Gran mejora: ya no se confunden con `Intermedia` |\n",
    "| **Intermedia**   | 216                           | 189                               | 🔻 Ligero descenso, pero sigue siendo alto    |\n",
    "\n",
    "🔍 **Nueva interpretación**:\n",
    "- La **mejor combinación (`C=1`, `degree=1`) eliminó el sobreajuste** anterior y logró un **balance casi idéntico al modelo lineal**.\n",
    "- El modelo ya **no prioriza excesivamente la clase Intermedia**, y logra **mejor cobertura en las clases Cara y Económica**, que antes estaban muy afectadas.\n",
    "\n",
    "\n",
    "### 📌 2. SVM RBF\n",
    "\n",
    "| Clase        | Predicciones correctas (Antes) | Predicciones correctas (Después) | Cambios clave                                    |\n",
    "|--------------|-------------------------------|-----------------------------------|-------------------------------------------------|\n",
    "| Cara         | 37                            | 32                                | ↓ Ligera disminución                             |\n",
    "| Económica    | 161                           | 159                               | ≈ Similar desempeño                              |\n",
    "| Intermedia   | 183                           | 190                               | ↑ Aumento de aciertos                            |\n",
    "\n",
    "🔍 **Interpretación**:\n",
    "- El ajuste **mejoró ligeramente** el equilibrio del modelo.\n",
    "- Se redujo el número de `Intermedias` mal clasificadas como `Económicas`, resolviendo parcialmente el desajuste anterior.\n",
    "- El modelo ahora está **menos desajustado** y generaliza mejor.\n",
    "\n",
    "---\n",
    "\n",
    "## 📊 Comparación General: Antes vs Después (Polinomial y RBF)\n",
    "\n",
    "| Kernel      | Tipo de Error Inicial                   | Ajuste realizado                     | Resultado general                               |\n",
    "|-------------|------------------------------------------|--------------------------------------|-------------------------------------------------|\n",
    "| **Polinomial**  | Sobreajuste a clase Intermedia           | Se redujo `C` y `degree` → `C=1`, `degree=1` | 🔄 Eliminado el sesgo, mejoras en todas las clases |\n",
    "| **RBF**         | Subajuste en `Intermedias` y `Caras`     | Ajuste fino de `C=10`, `gamma=0.01`         | ✅ Mejor equilibrio y precisión general          |\n",
    "\n",
    "---\n",
    "</small>"
   ]
  }
 ],
 "metadata": {
  "kernelspec": {
   "display_name": "venv",
   "language": "python",
   "name": "python3"
  },
  "language_info": {
   "codemirror_mode": {
    "name": "ipython",
    "version": 3
   },
   "file_extension": ".py",
   "mimetype": "text/x-python",
   "name": "python",
   "nbconvert_exporter": "python",
   "pygments_lexer": "ipython3",
   "version": "3.10.2"
  }
 },
 "nbformat": 4,
 "nbformat_minor": 5
}
